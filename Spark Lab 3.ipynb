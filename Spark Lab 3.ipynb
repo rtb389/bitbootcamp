{
 "cells": [
  {
   "cell_type": "code",
   "execution_count": null,
   "metadata": {
    "collapsed": true
   },
   "outputs": [],
   "source": []
  },
  {
   "cell_type": "code",
   "execution_count": 1,
   "metadata": {
    "collapsed": true
   },
   "outputs": [],
   "source": [
    "file_path = 'input_files/access_log'"
   ]
  },
  {
   "cell_type": "code",
   "execution_count": 2,
   "metadata": {
    "collapsed": false
   },
   "outputs": [],
   "source": [
    "input_rdd=sc.textFile(file_path)"
   ]
  },
  {
   "cell_type": "code",
   "execution_count": 3,
   "metadata": {
    "collapsed": true
   },
   "outputs": [],
   "source": [
    "def parser(line):\n",
    "    fields = line.split(' ',1)\n",
    "    ip = fields[0]\n",
    "    log={}\n",
    "    fields = fields[1].split('\"')\n",
    "    address = fields[1].split(' ')\n",
    "    if len(address) != 3:\n",
    "        log['method']=address[0]\n",
    "        log['endpoint']=address[0]\n",
    "        log['protocol']=address[0]\n",
    "    else:\n",
    "        log['method']=address[0]\n",
    "        log['endpoint']=address[1]\n",
    "        log['protocol']=address[2]\n",
    "    address = fields[2].split(' ')\n",
    "    log['response_code'] = address[1]\n",
    "    log['content_size'] = address[2]\n",
    "    \n",
    "    return (ip,log)"
   ]
  },
  {
   "cell_type": "code",
   "execution_count": 4,
   "metadata": {
    "collapsed": true
   },
   "outputs": [],
   "source": [
    "def safe(func,x):\n",
    "    try:\n",
    "        return func(x)\n",
    "    except Exception as ex:\n",
    "        return(x,ex.args)\n",
    "    \n",
    "def safe_parse(line):\n",
    "    return safe(parser,line)"
   ]
  },
  {
   "cell_type": "code",
   "execution_count": 5,
   "metadata": {
    "collapsed": false
   },
   "outputs": [
    {
     "data": {
      "text/plain": [
       "PythonRDD[2] at RDD at PythonRDD.scala:43"
      ]
     },
     "execution_count": 5,
     "metadata": {},
     "output_type": "execute_result"
    }
   ],
   "source": [
    "log_parsed = input_rdd.map(safe_parse)\n",
    "log_parsed.persist()"
   ]
  },
  {
   "cell_type": "code",
   "execution_count": 6,
   "metadata": {
    "collapsed": false
   },
   "outputs": [
    {
     "data": {
      "text/plain": [
       "defaultdict(int, {True: 1546})"
      ]
     },
     "execution_count": 6,
     "metadata": {},
     "output_type": "execute_result"
    }
   ],
   "source": [
    "log_parsed.map(lambda x: isinstance(x[1],dict)).countByValue()"
   ]
  },
  {
   "cell_type": "code",
   "execution_count": 7,
   "metadata": {
    "collapsed": false
   },
   "outputs": [
    {
     "data": {
      "text/plain": [
       "[(u'64.242.88.10',\n",
       "  {'content_size': u'12846',\n",
       "   'endpoint': u'/twiki/bin/edit/Main/Double_bounce_sender?topicparent=Main.ConfigurationVariables',\n",
       "   'method': u'GET',\n",
       "   'protocol': u'HTTP/1.1',\n",
       "   'response_code': u'401'})]"
      ]
     },
     "execution_count": 7,
     "metadata": {},
     "output_type": "execute_result"
    }
   ],
   "source": [
    "log_parsed.take(1)"
   ]
  },
  {
   "cell_type": "code",
   "execution_count": 8,
   "metadata": {
    "collapsed": false
   },
   "outputs": [
    {
     "name": "stdout",
     "output_type": "stream",
     "text": [
      "average content size:  7777.84221748\n",
      "min of content size:  0\n",
      "max of content size:  138789\n"
     ]
    }
   ],
   "source": [
    "log_size = log_parsed.filter(lambda x: x[1]['content_size']!='-').map(lambda x: int(x[1]['content_size']))\n",
    "\n",
    "def seqOp(acc,val):\n",
    "    return(acc[0]+val,min(acc[1],val),max(acc[2],val),acc[3]+1)\n",
    "\n",
    "def combOp(acc1,acc2):\n",
    "    return(acc1[0]+acc2[0],min(acc1[1],acc2[1]),max(acc1[2],acc2[2]),acc1[3]+acc2[3])\n",
    "\n",
    "count_log = log_size.aggregate((0,10**10,0,0),seqOp,combOp)\n",
    "\n",
    "\n",
    "print 'average content size: ',float(count_log[0])/count_log[-1]\n",
    "print 'min of content size: ',count_log[1]\n",
    "print 'max of content size: ',count_log[2]\n"
   ]
  },
  {
   "cell_type": "code",
   "execution_count": 9,
   "metadata": {
    "collapsed": false
   },
   "outputs": [
    {
     "data": {
      "text/plain": [
       "defaultdict(int,\n",
       "            {u'200': 1274,\n",
       "             u'302': 6,\n",
       "             u'304': 137,\n",
       "             u'401': 123,\n",
       "             u'404': 5,\n",
       "             u'408': 1})"
      ]
     },
     "execution_count": 9,
     "metadata": {},
     "output_type": "execute_result"
    }
   ],
   "source": [
    "log_parsed.map(lambda x: x[1]['response_code']).countByValue()"
   ]
  },
  {
   "cell_type": "code",
   "execution_count": 10,
   "metadata": {
    "collapsed": false
   },
   "outputs": [
    {
     "data": {
      "text/plain": [
       "{u'10.0.0.153': 270,\n",
       " u'64.242.88.10': 452,\n",
       " u'cr020r01-3.sac.overture.com': 44,\n",
       " u'h24-70-69-74.ca.shawcable.net': 32,\n",
       " u'h24-71-236-129.ca.shawcable.net': 51,\n",
       " u'market-mail.panduit.com': 29,\n",
       " u'ts04-ip92.hevanet.com': 28}"
      ]
     },
     "execution_count": 10,
     "metadata": {},
     "output_type": "execute_result"
    }
   ],
   "source": [
    "ip_count = log_parsed.map(lambda x: x[0]).countByValue()\n",
    "dict((key,value) for key, value in ip_count.iteritems() if value > 25)"
   ]
  },
  {
   "cell_type": "code",
   "execution_count": 11,
   "metadata": {
    "collapsed": false
   },
   "outputs": [
    {
     "data": {
      "text/plain": [
       "[(u'/twiki/pub/TWiki/TWikiLogos/twikiRobot46x50.gif', 64),\n",
       " (u'/', 47),\n",
       " (u'/twiki/bin/view/Main/WebHome', 41),\n",
       " (u'/icons/mailman.jpg', 37),\n",
       " (u'/icons/PythonPowered.png', 37),\n",
       " (u'/icons/gnu-head-tiny.jpg', 37),\n",
       " (u'/favicon.ico', 28),\n",
       " (u'/robots.txt', 27),\n",
       " (u'/razor.html', 26),\n",
       " (u'/twiki/bin/view/Main/SpamAssassinTaggingOnly', 18),\n",
       " (u'/twiki/bin/view/Main/SpamAssassinAndPostFix', 17),\n",
       " (u'/cgi-bin/mailgraph.cgi/mailgraph_2_err.png', 16),\n",
       " (u'/cgi-bin/mailgraph.cgi/mailgraph_3_err.png', 16),\n",
       " (u'/cgi-bin/mailgraph.cgi/mailgraph_1_err.png', 16),\n",
       " (u'/cgi-bin/mailgraph.cgi/mailgraph_3.png', 16),\n",
       " (u'/cgi-bin/mailgraph.cgi/mailgraph_1.png', 16),\n",
       " (u'/cgi-bin/mailgraph.cgi/mailgraph_0.png', 16),\n",
       " (u'/cgi-bin/mailgraph2.cgi', 16),\n",
       " (u'/cgi-bin/mailgraph.cgi/mailgraph_0_err.png', 16),\n",
       " (u'/cgi-bin/mailgraph.cgi/mailgraph_2.png', 16),\n",
       " (u'/twiki/bin/view/Main/SpamAssassinDeleting', 15),\n",
       " (u'/dccstats/stats-spam.1day.png', 15),\n",
       " (u'/dccstats/stats-hashes.1year.png', 15),\n",
       " (u'/dccstats/stats-spam.1year.png', 15),\n",
       " (u'/dccstats/stats-spam.1month.png', 15),\n",
       " (u'/dccstats/stats-spam-ratio.1week.png', 15),\n",
       " (u'/dccstats/stats-hashes.1week.png', 15),\n",
       " (u'/dccstats/stats-spam-ratio.1year.png', 15),\n",
       " (u'/dccstats/stats-spam.1week.png', 15),\n",
       " (u'/dccstats/stats-spam-ratio.1month.png', 15),\n",
       " (u'/dccstats/stats-spam-ratio.1day.png', 15),\n",
       " (u'/dccstats/stats-hashes.1month.png', 15),\n",
       " (u'/dccstats/index.html', 14),\n",
       " (u'/mailman/listinfo/ppwc', 13),\n",
       " (u'/twiki/bin/view/Main/DCCAndPostFix', 12),\n",
       " (u'/SpamAssassin.html', 12),\n",
       " (u'/mailman/admin/ppwc', 12),\n",
       " (u'/twiki/bin/view/Main/PostfixCommands', 11),\n",
       " (u'/mailman/listinfo', 11),\n",
       " (u'/AmavisNew.html', 11),\n",
       " (u'/images/image004.jpg', 8),\n",
       " (u'/images/msgops.JPG', 8),\n",
       " (u'/ie.htm', 8),\n",
       " (u'/twiki/bin/view/Main/RBLsHowTo', 8),\n",
       " (u'/images/image005.jpg', 8),\n",
       " (u'/twiki/bin/view/Main/PostSuper', 7),\n",
       " (u'/twiki/bin/view/Main/LinksOfUse', 7),\n",
       " (u'/twiki/bin/view/Main/RelayGateway', 7),\n",
       " (u'/twiki/bin/view/Main/SpamAssassinUsingRazorAndDCC', 7),\n",
       " (u'/twiki/bin/view/Main/PostfixCmd', 6),\n",
       " (u'/twiki/bin/view/Main/SpamAssassin', 6),\n",
       " (u'/mailman/admin/ppwc/members?letter=p', 6),\n",
       " (u'/mailman', 6),\n",
       " (u'/twiki/pub/TWiki/TWikiDocGraphics/help.gif', 5),\n",
       " (u'/RBL.html', 5),\n",
       " (u'/twiki/bin/view/Main/ConfigurationVariables', 5),\n",
       " (u'/twiki/bin/view/Main/SideBar', 5),\n",
       " (u'/twiki/bin/view/Main/VerifingGatway', 4),\n",
       " (u'/mailman/admin/ppwc/members', 4),\n",
       " (u'/mailman/listinfo/webber', 4),\n",
       " (u'/LateEmail.html', 4),\n",
       " (u'/clients.html', 4),\n",
       " (u'/twiki/bin/view/Main/DCCGraphs', 4),\n",
       " (u'/twiki/bin/view/Main/DCC', 3),\n",
       " (u'/twiki/bin/view/Main/Relay_Domains', 3),\n",
       " (u'/twiki/bin/view/Main/WebNotify', 3),\n",
       " (u'/twiki/bin/view/Main/TWikiAdminGroup', 3),\n",
       " (u'/mailman/admindb/ppwc', 3),\n",
       " (u'/pipermail/cncce/2004-January/000001.html', 3),\n",
       " (u'/twiki/bin/view/Sandbox/WebHome', 3),\n",
       " (u'/mailman/listinfo/administration', 3),\n",
       " (u'/twiki/bin/view/Main/KevinWGagel', 3),\n",
       " (u'/mailman/admin', 2),\n",
       " (u'/twiki/bin/view/Main/WebTopicList', 2),\n",
       " (u'/twiki/bin/view/TWiki/WebHome', 2),\n",
       " (u'/mailman/options/cnc_notice', 2),\n",
       " (u'/twiki/bin/view/Main/TWikiGuest', 2),\n",
       " (u'/mailman/admin/ppwc/general', 2),\n",
       " (u'/twiki/bin/view/Main/WebPreferences', 2),\n",
       " (u'/twiki/bin/view/Main/TWikiGroups', 2),\n",
       " (u'/twiki/bin/view/Main/WebChanges', 2),\n",
       " (u'/twiki/bin/rdiff/Main/WebHome?rev1=1.28&rev2=1.27', 2),\n",
       " (u'/twiki/bin/view/Main/MikeMannix', 2),\n",
       " (u'/mailman/admin/ppwc/members/add', 2),\n",
       " (u'/twiki/bin/rdiff/Main/PeterThoeny', 2),\n",
       " (u'/mailman/admin/ppwc/logout', 2),\n",
       " (u'/twiki/bin/edit/Main/Relayhost?topicparent=Main.ConfigurationVariables',\n",
       "  2),\n",
       " (u'/twiki/bin/edit/Main/PostConf?topicparent=Main.PostfixCommands', 2),\n",
       " (u'/mailman/admin/ppwc/gateway', 2),\n",
       " (u'/twiki/bin/view/Main/TWikiUsers', 2),\n",
       " (u'/twiki/bin/view/Know/WebHome', 2),\n",
       " (u'/twiki/bin/rdiff/TWiki/WebNotify', 2),\n",
       " (u'/DCC.html', 2),\n",
       " (u'/twiki/bin/view/Main/SanJoseOffice', 2),\n",
       " (u'/mailman/listinfo/cncce', 2),\n",
       " (u'/dccstats/', 2),\n",
       " (u'/twiki/bin/oops/TWiki/AppendixFileSystem?template=oopsmore&param1=1.12&param2=1.12',\n",
       "  2),\n",
       " (u'/twiki/bin/edit/Main/UvscanAndPostFix?topicparent=Main.WebHome', 2),\n",
       " (u'/twiki/bin/view/Main/WebIndex?rev=r1.2', 1),\n",
       " (u'/twiki/bin/rdiff/Main/WebTopicList', 1),\n",
       " (u'/twiki/bin/view/TWiki/WebTopicViewTemplate', 1),\n",
       " (u'/twiki/bin/edit/Main/OfficeLocations?t=1078691049', 1),\n",
       " (u'/mailman/private/business/', 1),\n",
       " (u'/twiki/bin/view/TWiki/AlWilliams?rev=1.1', 1),\n",
       " (u'/twiki/bin/rename/TWiki/ResetPassword', 1),\n",
       " (u'/twiki/bin/edit/Main/Allow_min_user?topicparent=Main.ConfigurationVariables',\n",
       "  1),\n",
       " (u'/twiki/bin/view/TWiki/PeterFokkinga?rev=1.2', 1),\n",
       " (u'/twiki/bin/rdiff/Main/WebIndex?rev1=1.2&rev2=1.1', 1),\n",
       " (u'/twiki/bin/edit/TWiki/TestArea?topicparent=TWiki.WelcomeGuest', 1),\n",
       " (u'/twiki/bin/view/Main/TWikiGuest?rev=1.4', 1),\n",
       " (u'/twiki/bin/oops/TWiki/WikiCulture?template=oopsmore&param1=1.8&param2=1.8',\n",
       "  1),\n",
       " (u'/twiki/bin/rdiff/TWiki/StanleyKnutson', 1),\n",
       " (u'/twiki/bin/attach/TWiki/KevinKinnell', 1),\n",
       " (u'/twiki/bin/attach/Main/WebPreferences', 1),\n",
       " (u'/twiki/bin/rename/TWiki/TWikiHistory', 1),\n",
       " (u'/twiki/bin/rdiff/TWiki/WebChangesAlert', 1),\n",
       " (u'/twiki/bin/edit/TWiki/KevinKinnell?t=1078692967', 1),\n",
       " (u'/twiki/bin/edit/Main/Mailq_path?topicparent=Main.ConfigurationVariables',\n",
       "  1),\n",
       " (u'/twiki/bin/view/Main/LondonOffice', 1),\n",
       " (u'/twiki/bin/rdiff/TWiki/TWikiSkins?rev1=1.11&rev2=1.10', 1),\n",
       " (u'/twiki/bin/oops/Main/WebHome?template=oopsmore&param1=1.28&param2=1.28',\n",
       "  1),\n",
       " (u'/twiki/bin/rdiff/TWiki/KevinKinnell?rev1=1.5&rev2=1.4', 1),\n",
       " (u'/twiki/bin/view/TWiki/NewUserTemplate?skin=print', 1),\n",
       " (u'/twiki/bin/view/TWiki/WhatIsWikiWiki', 1),\n",
       " (u'/twiki/bin/view/TWiki/WebIndex', 1),\n",
       " (u'/twiki/bin/edit/Main/Smtpd_etrn_restrictions?topicparent=Main.ConfigurationVariables',\n",
       "  1),\n",
       " (u'/twiki/bin/oops/TWiki/DefaultPlugin?template=oopsmore&param1=1.5&param2=1.5',\n",
       "  1),\n",
       " (u'/twiki/bin/rdiff/TWiki/AdrianLynch', 1),\n",
       " (u'/twiki/bin/rdiff/Main/ConfigurationVariables?rev1=1.2&rev2=1.1', 1),\n",
       " (u'/twiki/bin/edit/Main/Fast_flush_domains?topicparent=Main.ConfigurationVariables',\n",
       "  1),\n",
       " (u'/mailman/listinfo/cnc_notice', 1),\n",
       " (u'/twiki/bin/view/Main/TWikiAdminGroup?rev=1.6', 1),\n",
       " (u'/twiki/bin/view/Know/WebStatistics', 1),\n",
       " (u'/twiki/bin/oops/TWiki/TWikiSite?template=oopsmore&param1=1.21&param2=1.21',\n",
       "  1),\n",
       " (u'/twiki/bin/edit/TWiki/WikiNotation?t=1078726052', 1),\n",
       " (u'/twiki/bin/view/TWiki/TextFormattingRules?rev=r1.16', 1),\n",
       " (u'/twiki/bin/view/TWiki/TextFormattingRules?rev=r1.15', 1),\n",
       " (u'/mailman/admin/webct', 1),\n",
       " (u'/mailman/admin/artsscience', 1),\n",
       " (u'/twiki/bin/view/TWiki/TextFormattingRules?rev=r1.19', 1),\n",
       " (u'/twiki/bin/view/TWiki/DavidWarman', 1),\n",
       " (u'/twiki/bin/oops/TWiki/TWikiPlugins?template=oopsmore&param1=1.21&param2=1.21',\n",
       "  1),\n",
       " (u'/twiki/bin/view/Main/ThanadonSomdee', 1),\n",
       " (u'/twiki/bin/oops/TWiki/Mana', 1),\n",
       " (u'/pipermail/cncce/2004-January.txt', 1),\n",
       " (u'/twiki/bin/rdiff/TWiki/RyanFreebern?rev1=1.2&rev2=1.1', 1),\n",
       " (u'/rfc.html', 1),\n",
       " (u'/twiki/bin/rdiff/Main/TokyoOffice?rev1=1.2&rev2=1.1', 1),\n",
       " (u'/pipermail/cnc_notice/2003-December/000002.html', 1),\n",
       " (u'/pipermail/cnc_notice/2004-February.txt', 1),\n",
       " (u'/twiki/bin/view/TWiki/WikiNotation', 1),\n",
       " (u'/twiki/bin/oops/Main/WebHome?template=oopsmore&param1=1.28&param2=1.8', 1),\n",
       " (u'/twiki/bin/search/TWiki/SearchResult?scope=text&regex=on&search=Inter%20*Wikis[^A-Za-z]',\n",
       "  1),\n",
       " (u'/twiki/bin/rdiff/TWiki/KlausWriessnegger?rev1=1.2&rev2=1.1', 1),\n",
       " (u'/twiki/bin/view/TWiki/WebSiteTools', 1),\n",
       " (u'/twiki/bin/view/Sandbox/WebStatistics', 1),\n",
       " (u'/twiki/bin/view/TWiki/TablePlugin?skin=print', 1),\n",
       " (u'/twiki/bin/edit/Main/Syslog_name?topicparent=Main.ConfigurationVariables',\n",
       "  1),\n",
       " (u'/twiki/bin/rdiff/Main/PostQueue', 1),\n",
       " (u'/twiki/bin/edit/Main/RBLsHowTo?t=1078668449', 1),\n",
       " (u'/twiki/bin/edit/Sandbox/TestTopic7?topicparent=Sandbox.WebHome', 1),\n",
       " (u'/twiki/bin/view/Know/ReadmeFirst?rev=1.4', 1),\n",
       " (u'/twiki/bin/edit/Main/Daemon_directory?topicparent=Main.ConfigurationVariables',\n",
       "  1),\n",
       " (u'/twiki/bin/rdiff/TWiki/TWikiPlannedFeatures', 1),\n",
       " (u'/twiki/bin/rdiff/TWiki/WikiWord?rev1=1.4&rev2=1.3', 1),\n",
       " (u'/mailman/listinfo/cnc_forestry', 1),\n",
       " (u'/twiki/bin/edit/TWiki/TablePlugin?t=1078681446', 1),\n",
       " (u'/twiki/bin/edit/Main/Berkeley_db_create_buffer_size?topicparent=Main.ConfigurationVariables',\n",
       "  1),\n",
       " (u'/mailman/admin/gisgrad', 1),\n",
       " (u'/twiki/bin/view/TWiki/TWikiSkins?skin=print', 1),\n",
       " (u'/twiki/bin/edit/TWiki/TWikiPlugins?t=1078696313', 1),\n",
       " (u'/twiki/bin/attach/TWiki/HaroldGottschalk', 1),\n",
       " (u'/twiki/bin/view/TWiki/KlausWriessnegger', 1),\n",
       " (u'/twiki/bin/edit/Main/WebSearch?t=1078669682', 1),\n",
       " (u'/twiki/bin/view/TWiki/TWikiHistory?rev=r1.44', 1),\n",
       " (u'/twiki/bin/oops/TWiki/WikiTopic', 1),\n",
       " (u'/twiki/bin/view/Main/MikeMannix?rev=1.3', 1),\n",
       " (u'/mailman/private/sswk/', 1),\n",
       " (u'/twiki/bin/attach/TWiki/TWikiDocGraphics?filename=pencil.gif&revInfo=1',\n",
       "  1),\n",
       " (u'/twiki/bin/rdiff/TWiki/DeleteOrRenameATopic', 1),\n",
       " (u'/twiki/bin/view/TWiki/TWikiHistory?rev=1.59', 1),\n",
       " (u'/twiki/bin/view/Main/WebHome?rev=1.27', 1),\n",
       " (u'/twiki/bin/oops/Know/WinDoze95Crash', 1),\n",
       " (u'/mailman/listinfo/business', 1),\n",
       " (u'/twiki/bin/view/TWiki/ChangePassword?rev=r1.6', 1),\n",
       " (u'/twiki/bin/view/TWiki/ChangePassword?rev=r1.3', 1),\n",
       " (u'/twiki/bin/view/Main/PostQueue', 1),\n",
       " (u'/twiki/bin/view/Main/WebIndex?rev=1.1', 1),\n",
       " (u'/twiki/bin/rdiff/TWiki/WebTopicEditTemplate?rev1=1.5&rev2=1.4', 1),\n",
       " (u'/twiki/bin/oops/TWiki/SvenDowideit', 1),\n",
       " (u'/mailman/private/hsdivision/', 1),\n",
       " (u'/twiki/view/Main/WebHome', 1),\n",
       " (u'/mailman/admin/sswk', 1),\n",
       " (u'/twiki/bin/view/TWiki/WebStatistics', 1),\n",
       " (u'/twiki/bin/rdiff/TWiki/TWikiPlugins?rev1=1.20&rev2=1.19', 1),\n",
       " (u'/twiki/bin/view/TWiki/WebSearch?rev=r1.9', 1),\n",
       " (u'/twiki/bin/view/TWiki/SvenDowideit', 1),\n",
       " (u'/twiki/bin/rdiff/TWiki/PeterFokkinga?rev1=1.4&rev2=1.3', 1),\n",
       " (u'/twiki/bin/edit/TWiki/RyanFreebern?t=1078701457', 1),\n",
       " (u'/twiki/bin/oops/TWiki/WikiWikiClones', 1),\n",
       " (u'/twiki/bin/oops/Main/NicholasLee?template=oopsmore&param1=1.2&param2=1.2',\n",
       "  1),\n",
       " (u'/twiki/bin/attach/Main/OfficeLocations', 1),\n",
       " (u'/twiki/bin/rdiff/Main/WebIndex', 1),\n",
       " (u'/twiki/bin/rdiff/TWiki/SvenDowideit?rev1=1.2&rev2=1.1', 1),\n",
       " (u'/twiki/bin/rdiff/Main/WebRss', 1),\n",
       " (u'/twiki/bin/edit/Main/TWikiPreferences?topicparent=Main.WebHome', 1),\n",
       " (u'/twiki/bin/rdiff/TWiki/TWikiDownload', 1),\n",
       " (u'/twiki/bin/view/Main/FileAttachment?rev=1.2', 1),\n",
       " (u'/twiki/bin/view/Main/FileAttachment?rev=1.1', 1),\n",
       " (u'/twiki/bin/edit/Main/Max_idle?topicparent=Main.ConfigurationVariables', 1),\n",
       " (u'/mailman/admin/ncbnpfaculty', 1),\n",
       " (u'/twiki/bin/rdiff/TWiki/WebHome', 1),\n",
       " (u'/twiki/bin/view/Main/Postfix', 1),\n",
       " (u'/twiki/bin/view/TWiki/WikiCulture', 1),\n",
       " (u'/twiki/bin/view/Main/AndreaSterbini?rev=r1.1', 1),\n",
       " (u'/twiki/bin/rdiff/TWiki/TWikiRegistration', 1),\n",
       " (u'/twiki/bin/edit/Main/Virtual_mailbox_lock?topicparent=Main.ConfigurationVariables',\n",
       "  1),\n",
       " (u'/twiki/bin/oops/Know/PublicSupported', 1),\n",
       " (u'/twiki/bin/view/TWiki/TextFormattingRules?rev=r1.22', 1),\n",
       " (u'/twiki/bin/view/TWiki/TextFormattingRules?rev=r1.21', 1),\n",
       " (u'/twiki/bin/view/TWiki/TextFormattingRules?rev=r1.26', 1),\n",
       " (u'/twiki/bin/view/TWiki/TextFormattingRules?rev=r1.24', 1),\n",
       " (u'/twiki/bin/attach/TWiki/TWikiSite', 1),\n",
       " (u'/twiki/bin/view/Main/WebChanges?skin=print', 1),\n",
       " (u'/twiki/bin/oops/TWiki/InterWikis', 1),\n",
       " (u'/twiki/bin/edit/TWiki/TWikiCodevTWikiEnhancementRequests?topicparent=TWiki.TWikiHistory',\n",
       "  1),\n",
       " (u'/twiki/bin/edit/Main/Sender_canonical_maps?topicparent=Main.ConfigurationVariables',\n",
       "  1),\n",
       " (u'/twiki/bin/edit/Main/Smtpd_banner?topicparent=Main.ConfigurationVariables',\n",
       "  1),\n",
       " (u'/twiki/bin/view/TWiki/WelcomeGuest?rev=r1.5', 1),\n",
       " (u'/twiki/bin/view/TWiki/WelcomeGuest?rev=r1.6', 1),\n",
       " (u'/mailman/listinfo/dentalstudies', 1),\n",
       " (u'/twiki/bin/view/Main/WebHome?rev=r1.24', 1),\n",
       " (u'/twiki/bin/edit/Main/Strict_8bitmime?topicparent=Main.ConfigurationVariables',\n",
       "  1),\n",
       " (u'/twiki/bin/edit/TWiki/TextFormattingFAQ?t=1075982736', 1),\n",
       " (u'/twiki/bin/rdiff/TWiki/WebSiteTools?rev1=1.2&rev2=1.1', 1),\n",
       " (u'/twiki/bin/rdiff/Main/SanJoseOffice', 1),\n",
       " (u'/twiki/bin/view/TWiki/RichardDonkin?skin=print', 1),\n",
       " (u'/mailman/listinfo/jjec', 1),\n",
       " (u'/twiki/bin/search/Main/SearchResult?scope=text&regex=on&search=Office%20*Locations[^A-Za-z]',\n",
       "  1),\n",
       " (u'/twiki/bin/rdiff/TWiki/TWikiHistory?rev1=1.10&rev2=1.9', 1),\n",
       " (u'/twiki/bin/rdiff/TWiki/TWikiSite', 1),\n",
       " (u'/twiki/bin/view/TWiki/DefaultPlugin?rev=1.4', 1),\n",
       " (u'/twiki/bin/rdiff/Main/WebHome', 1),\n",
       " (u'/twiki/bin/edit/Main/RazorAndPostFix?topicparent=Main.WebHome', 1),\n",
       " (u'/twiki/bin/edit/Main/Flush_service_name?topicparent=Main.ConfigurationVariables',\n",
       "  1),\n",
       " (u'/twiki/bin/rdiff/TWiki/ChangePassword', 1),\n",
       " (u'/mailman/private/dentalstudies/', 1),\n",
       " (u'/mailman/admin/jjec', 1),\n",
       " (u'/twiki/bin/oops/TWiki/1000', 1),\n",
       " (u'/twiki/bin/rdiff/Main/WebNotify', 1),\n",
       " (u'/twiki/bin/oops/Main/TWi', 1),\n",
       " (u'/twiki/bin/attach/Main/SpamAssassinAndPostFix', 1),\n",
       " (u'/twiki/bin/edit/TWiki/TWikiRegistration?t=1078670224', 1),\n",
       " (u'/mailman/listinfo/mlc', 1),\n",
       " (u'/twiki/bin/view/TWiki/FileAttribute?rev=r1.2', 1),\n",
       " (u'/twiki/bin/edit/Main/Allow_untrusted_routing?topicparent=Main.ConfigurationVariables',\n",
       "  1),\n",
       " (u'/twiki/bin/rdiff/TWiki/TWikiHistory?rev1=1.61&rev2=1.60', 1),\n",
       " (u'/twiki/bin/view/TWiki/TWikiTopics?rev=r1.10', 1),\n",
       " (u'/twiki/bin/view/TWiki/AppendixFileSystem?rev=1.10', 1),\n",
       " (u'/twiki/bin/rdiff/Main/SpamAssassin', 1),\n",
       " (u'/twiki/bin/rdiff/TWiki/SvenDowideit', 1),\n",
       " (u'/twiki/bin/attach/TWiki/WebSearch', 1),\n",
       " (u'/twiki/', 1),\n",
       " (u'/twiki/bin/search/Main/SearchResult?scope=text&regex=on&search=Thanadon%20*Somdee[^A-Za-z]',\n",
       "  1),\n",
       " (u'/twiki/bin/edit/Main/TokyoOffice?t=1078706364', 1),\n",
       " (u'/twiki/bin/rdiff/TWiki/RichardDonkin?rev1=1.2&rev2=1.1', 1),\n",
       " (u'/twiki/bin/edit/Main/Max_use?topicparent=Main.ConfigurationVariables', 1),\n",
       " (u'/twiki/bin/oops/Main/FileAttachment?template=oopsmore&param1=1.3&param2=1.3',\n",
       "  1),\n",
       " (u'/mailman/options/ppwc/ppwctwentynine@shaw.com', 1),\n",
       " (u'/twiki/bin/oops/TWiki/TWikiVariables?template=oopsmore&param1=1.62&param2=1.62',\n",
       "  1),\n",
       " (u'/twiki/bin/edit/TWiki/WikiStyleWord?topicparent=TWiki.TextFormattingFAQ',\n",
       "  1),\n",
       " (u'/twiki/bin/view/Main/TokyoOffice?rev=1.2', 1),\n",
       " (u'/twiki/bin/view/Main/TokyoOffice?rev=1.3', 1),\n",
       " (u'/pipermail/cipg/2003-november.txt', 1),\n",
       " (u'/twiki/bin/rdiff/TWiki/AlWilliams?rev1=1.2&rev2=1.1', 1),\n",
       " (u'/twiki/bin/view/TWiki/KevinKinnell?rev=1.4', 1),\n",
       " (u'/twiki/bin/view/TWiki/TextFormattingRules?rev=r1.28', 1),\n",
       " (u'/twiki/bin/edit/Main/WebStatistics?t=1078690975', 1),\n",
       " (u'/twiki/bin/rdiff/Main/TWikiGroups?rev1=1.3&rev2=1.2', 1),\n",
       " (u'/twiki/bin/edit/Main/Delay_notice_recipient?topicparent=Main.ConfigurationVariables',\n",
       "  1),\n",
       " (u'/mailman/admin/webber', 1),\n",
       " (u'/twiki/bin/view/TWiki/DontNotify', 1),\n",
       " (u'/twiki/bin/view/TWiki/TWikiDocGraphics', 1),\n",
       " (u'/twiki/bin/rdiff/TWiki/WikiCulture?rev1=1.8&rev2=1.7', 1),\n",
       " (u'/pipermail/techcomm/', 1),\n",
       " (u'/mailman/options/ppwc/ppwctwentynine--at--shaw.com', 1),\n",
       " (u'/twiki/bin/view/TWiki/FormattedSearch', 1),\n",
       " (u'/twiki/bin/rdiff/Main/VishaalGolam', 1),\n",
       " (u'/twiki/bin/edit/Main/Setgid_group?topicparent=Main.ConfigurationVariables',\n",
       "  1),\n",
       " (u'/twiki/bin/edit/Main/Mail_release_date?topicparent=Main.ConfigurationVariables',\n",
       "  1),\n",
       " (u'/twiki/bin/edit/Main/Propagate_unmatched_extensions?topicparent=Main.ConfigurationVariables',\n",
       "  1),\n",
       " (u'/twiki/bin/oops/TWiki/WebChangesAlert', 1),\n",
       " (u'/twiki/bin/view/TWiki/2fa', 1),\n",
       " (u'/twiki/bin/oops/Main/T', 1),\n",
       " (u'/twiki/bin/oops/TWiki/MoveTopic', 1),\n",
       " (u'/twiki/bin/search/TWiki/?scope=topic&regex=on&search=^q', 1),\n",
       " (u'/twiki/bin/search/TWiki/SearchResult?scope=text&regex=on&search=Peter%20*Fokkinga[^A-Za-z]',\n",
       "  1),\n",
       " (u'/mailman/listinfo/fnac', 1),\n",
       " (u'/twiki/bin/view/TWiki/HaroldGottschalk', 1),\n",
       " (u'/twiki/bin/edit/TWiki/DefaultPlugin?t=1078688936', 1),\n",
       " (u'/twiki/bin/edit/Main/Lmtp_connect_timeout?topicparent=Main.ConfigurationVariables',\n",
       "  1),\n",
       " (u'/twiki/bin/view/Main/WebStatistics', 1),\n",
       " (u'/twiki/bin/view/Main/TWikiGuest?rev=r1.1', 1),\n",
       " (u'/twiki/bin/view/Main/TWikiGuest?rev=r1.3', 1),\n",
       " (u'/twiki/bin/statistics/Main', 1),\n",
       " (u'/twiki/bin/view/Main/VishaalGolam', 1),\n",
       " (u'/twiki/bin/oops/Main/Mi', 1),\n",
       " (u'/twiki/bin/search/TWiki/SearchResult?scope=text&regex=on&search=Web%20*Statistics[^A-Za-z]',\n",
       "  1),\n",
       " (u'/twiki/bin/edit/Main/SpamAssassin?t=1078709979', 1),\n",
       " (u'/twiki/bin/view/TWiki/SvenDowideit?rev=r1.1', 1),\n",
       " (u'/twiki/bin/view/Main/WebNotify?rev=r1.6', 1),\n",
       " (u'/MSOffice/cltreq.asp?UL=1&ACT=4&BUILD=2614&STRMVER=4&CAPREQ=0', 1),\n",
       " (u'/twiki/bin/oops/Main/DCC?template=oopsmore&param1=1.1&param2=1.1', 1),\n",
       " (u'/twiki/bin/edit/TWiki/KlausWriessnegger?t=1078709735', 1),\n",
       " (u'/twiki/bin/oops/TWiki/InterwikiPlugin', 1),\n",
       " (u'/pipermail/cnc_notice/2003-December.txt', 1),\n",
       " (u'/twiki/bin/attach/TWiki/TablePlugin', 1),\n",
       " (u'/twiki/bin/rdiff/TWiki/TWikiHistory?rev1=1.8&rev2=1.7', 1),\n",
       " (u'/twiki/bin/edit/Main/Virtual_gid_maps?topicparent=Main.ConfigurationVariables',\n",
       "  1),\n",
       " (u'/twiki/bin/edit/Main/Mydestination?topicparent=Main.ConfigurationVariables',\n",
       "  1),\n",
       " (u'/twiki/bin/search/TWiki/?scope=topic&regex=on&search=^y', 1),\n",
       " (u'/mailman/admin/ppwc/?VARHELP=general/owner', 1),\n",
       " (u'/twiki/bin/search/TWiki/?scope=topic&regex=on&search=^d', 1),\n",
       " (u'/twiki/bin/search/TWiki/?scope=topic&regex=on&search=^j', 1),\n",
       " (u'/twiki/bin/search/TWiki/?scope=topic&regex=on&search=^i', 1),\n",
       " (u'/twiki/bin/view/Main/WebHome?rev=r1.16', 1),\n",
       " (u'/twiki/bin/search/TWiki/?scope=topic&regex=on&search=^l', 1),\n",
       " (u'/twiki/bin/view/TWiki/TWikiHistory?rev=r1.54', 1),\n",
       " (u'/twiki/bin/view/TWiki/TWikiHistory?rev=r1.55', 1),\n",
       " (u'/twiki/bin/view/TWiki/TWikiHistory?rev=r1.50', 1),\n",
       " (u'/twiki/bin/view/Main/WebHome?rev=r1.8', 1),\n",
       " (u'/twiki/bin/view/Main/WebHome?rev=r1.9', 1),\n",
       " (u'/mailman/listinfo/hs_support', 1),\n",
       " (u'/twiki/bin/edit/Main/Cleanup_service_name?topicparent=Main.ConfigurationVariables',\n",
       "  1),\n",
       " (u'/twiki/bin/oops/Sandbox/WebStatistics', 1),\n",
       " (u'/twiki/bin/oops/TWiki/NicholasLee', 1),\n",
       " (u'/twiki/bin/view/TWiki/TWikiUpgradeTo01May2000?rev=1.3', 1),\n",
       " (u'/twiki/bin/rdiff/TWiki/WikiReferences?rev1=1.2&rev2=1.1', 1),\n",
       " (u'/twiki/bin/attach/TWiki/InterWikis', 1),\n",
       " (u'/twiki/bin/edit/Main/Unknown_local_recipient_reject_code?topicparent=Main.ConfigurationVariables',\n",
       "  1),\n",
       " (u'/mailman/admin/hs_support', 1),\n",
       " (u'/twiki/bin/view/Main/WebSearch', 1),\n",
       " (u'/twiki/bin/view/Main/TWikiGuest?skin=print', 1),\n",
       " (u'/twiki/bin/rdiff/TWiki/WhatIsWikiWiki', 1),\n",
       " (u'/twiki/bin/edit/TWiki/TWikiSite?t=1078681794', 1),\n",
       " (u'/twiki/bin/oops/TWiki/Wik', 1),\n",
       " (u'/twiki/bin/view/Main/WelcomeGuest', 1),\n",
       " (u'/antivirus.html', 1),\n",
       " (u'/twiki/bin/search/TWiki/?search=\\\\\\\\.*&scope=topic&order=modified&reverse=on&regex=on&nosearch=on&limit=200',\n",
       "  1),\n",
       " (u'-', 1),\n",
       " (u'/twiki/bin/attach/Sandbox/WebHome', 1),\n",
       " (u'/mailman/listinfo/artsscience', 1),\n",
       " (u'/twiki/bin/view/TWiki/WebPreferences', 1),\n",
       " (u'/twiki/bin/oops/TWiki/TextFormattingRules?template=oopsmore&param1=1.37&param2=1.37',\n",
       "  1),\n",
       " (u'/twiki/bin/rdiff/TWiki/KevinKinnell?rev1=1.4&rev2=1.3', 1),\n",
       " (u'/twiki/bin/edit/TWiki/TWikiCodevTWikiPlannedFeatures?topicparent=TWiki.TWikiHistory',\n",
       "  1),\n",
       " (u'/twiki/bin/rdiff/TWiki/WebChanges', 1),\n",
       " (u'/twiki/bin/edit/Main/Lmtp_mail_timeout?topicparent=Main.ConfigurationVariables',\n",
       "  1),\n",
       " (u'/twiki/bin/view/TWiki/TWikiFAQ?rev=1.11', 1),\n",
       " (u'/twiki/bin/search/Main/SearchResult?scope=text&regex=on&search=Joris%20*Benschop[^A-Za-z]',\n",
       "  1),\n",
       " (u'/mailman/private/mlc/', 1),\n",
       " (u'/twiki/bin/edit/TWiki/AppendixFileSystem?t=1078674582', 1),\n",
       " (u'/twiki/bin/rdiff/TWiki/FileAttribute', 1),\n",
       " (u'/twiki/bin/view/Main/SideBar?rev=1.1', 1),\n",
       " (u'/twiki/bin/rdiff/Main/TWikiGuest?rev1=1.5&rev2=1.4', 1),\n",
       " (u'/twiki/bin/attach/TWiki/WebPreferences', 1),\n",
       " (u'/twiki/bin/attach/Main/ConfigurationVariables', 1),\n",
       " (u'/twiki/bin/oops/TWiki/WikiNotation?template=oopsmore&param1=1.3&param2=1.3',\n",
       "  1),\n",
       " (u'/twiki/bin/view/TWiki/TextFormattingRules?rev=r1.31', 1),\n",
       " (u'/twiki/bin/view/TWiki/TextFormattingRules?rev=r1.33', 1),\n",
       " (u'/twiki/bin/search/Main/SearchResult?scope=text&regex=on&search=TWiki%20*Admin%20*Group[^A-Za-z]',\n",
       "  1),\n",
       " (u'/twiki/bin/view/TWiki/TextFormattingRules?rev=r1.35', 1),\n",
       " (u'/twiki/bin/view/TWiki/TextFormattingRules?rev=r1.37', 1),\n",
       " (u'/twiki/bin/oops/Main/KevinWGage', 1),\n",
       " (u'/twiki/bin/oops/Main/Smtpd_recipient_limit', 1),\n",
       " (u'/twiki/bin/oops/Main/TWikiUsers', 1),\n",
       " (u'/twiki/bin/oops/TWiki/TablePlugin', 1),\n",
       " (u'/twiki/bin/edit/Main/Smtp_data_init_timeout?topicparent=Main.ConfigurationVariables',\n",
       "  1),\n",
       " (u'/twiki/bin/view/Main/AndreaSterbini', 1),\n",
       " (u'/twiki/bin/edit/Main/BookView?topicparent=Main.TWikiVariables', 1),\n",
       " (u'/twiki/bin/edit/Main/Undisclosed_recipients_header?topicparent=Main.ConfigurationVariables',\n",
       "  1),\n",
       " (u'/twiki/bin/view/Main/SimonMudd', 1),\n",
       " (u'/twiki/bin/attach/TWiki/TWikiDocGraphics?filename=viewtopic.gif&revInfo=1',\n",
       "  1),\n",
       " (u'/twiki/bin/rdiff/Main/WebPreferences?rev1=1.14&rev2=1.13', 1),\n",
       " (u'/mailman/listinfo/fcd', 1),\n",
       " (u'/twiki/bin/search/TWiki/SearchResult?scope=text&regex=on&search=Web%20*Preferences[^A-Za-z]',\n",
       "  1),\n",
       " (u'/twiki/bin/edit/Main/Smtp_pix_workaround_delay_time?topicparent=Main.ConfigurationVariables',\n",
       "  1),\n",
       " (u'/twiki/bin/search/Main/SearchResult?search=%5C.*&scope=topic&order=modified&reverse=on&regex=on&nosearch=on',\n",
       "  1),\n",
       " (u'/twiki/bin/view/TWiki/TWikiTutorial', 1),\n",
       " (u'/twiki/bin/oops/Main/SpamAssassinTaggingOnly', 1),\n",
       " (u'/twiki/bin/view/TWiki/WebSearch?skin=print', 1),\n",
       " (u'/twiki/bin/view/Main/WebPreferences?rev=1.14', 1),\n",
       " (u'/twiki/bin/view/Main/WebPreferences?rev=1.13', 1),\n",
       " (u'/twiki/bin/oops/Main/ThanadonSomdee', 1),\n",
       " (u'/twiki/bin/view/Main/TokyoOffice?rev=r1.3', 1),\n",
       " (u'/twiki/bin/attach/Main/TWikiGroups', 1),\n",
       " (u'/twiki/bin/oops/TWiki/TWikiVariables', 1),\n",
       " (u'/twiki/bin/rdiff/TWiki/TWikiTopics', 1),\n",
       " (u'/twiki/bin/oops/TWiki/JohnAltstadt', 1),\n",
       " (u'/twiki/bin/edit/TWiki/RichardDonkin?t=1078691832', 1),\n",
       " (u'/twiki/bin/view/TWiki/ManagingWebs?rev=1.21', 1),\n",
       " (u'/twiki/bin/view/TWiki/ManagingWebs?rev=1.22', 1),\n",
       " (u'/twiki/bin/oops/TWiki/WelcomeGuest?template=oopsmore&param1=1.20&param2=1.20',\n",
       "  1),\n",
       " (u'/twiki/bin/view/TWiki/WebTopicList', 1),\n",
       " (u'/twiki/bin/oops/Sandbox/WebHome?template=oopsmore&param1=1.7&param2=1.7',\n",
       "  1),\n",
       " (u'/twiki/bin/view/Sandbox/WebChanges', 1),\n",
       " (u'/twiki/bin/oops/TWiki/FileAttachment', 1),\n",
       " (u'/mailman/listinfo/purchasing', 1),\n",
       " (u'/twiki/bin/view/TWiki/TWikiTopics?rev=r1.4', 1),\n",
       " (u'/twiki/bin/edit/Main/Invalid_hostname_reject_code?topicparent=Main.ConfigurationVariables',\n",
       "  1),\n",
       " (u'/twiki/bin/edit/Main/Ignore_mx_lookup_error?topicparent=Main.ConfigurationVariables',\n",
       "  1),\n",
       " (u'/twiki/bin/view/TWiki/WebSearch?rev=1.11', 1),\n",
       " (u'/twiki/bin/view/TWiki/TWikiCategoryTable', 1),\n",
       " (u'/twiki/bin/edit/Main/Header_checks?topicparent=Main.ConfigurationVariables',\n",
       "  1),\n",
       " (u'/twiki/bin/view/TWiki/WikiSyntax', 1),\n",
       " (u'/twiki/bin/rdiff/TWiki/AppendixFileSystem?rev1=1.11&rev2=1.10', 1),\n",
       " (u'/twiki/bin/oops/TWiki/RyanFreebern?template=oopsmore&param1=1.2&param2=1.2',\n",
       "  1),\n",
       " (u'/mailman/listinfo/deans', 1),\n",
       " (u'/twiki/bin/view/TWiki/FormattedSearch?rev=1.8', 1),\n",
       " (u'/mailman/listinfo/mgt-157', 1),\n",
       " (u'/twiki/bin/view/TWiki/TWikiPlugins?rev=1.19', 1),\n",
       " (u'/twiki/bin/view/TWiki/WebHome?rev=r1.49', 1),\n",
       " (u'/mailman/listinfo/ncbnpfaculty', 1),\n",
       " (u'/twiki/bin/view/TWiki/WebHome?rev=r1.47', 1),\n",
       " (u'/twiki/bin/edit/Main/Trigger_timeout?topicparent=Main.ConfigurationVariables',\n",
       "  1),\n",
       " (u'/twiki/bin/edit/TWiki/SvenDowideit?t=1078710644', 1),\n",
       " (u'/twiki/bin/rdiff/Main/RelayGateway?rev1=1.3&rev2=1.2', 1),\n",
       " (u'/twiki/bin/attach/Main/TWikiGuest', 1),\n",
       " (u'/twiki/bin/rdiff/TWiki/TWikiHistory', 1),\n",
       " (u'/twiki/bin/view/Sandbox/WebPreferences', 1),\n",
       " (u'/twiki/bin/view/TWiki/WelcomeGuest?rev=r1.11', 1),\n",
       " (u'/pipermail/cncce/2004-January/000002.html', 1),\n",
       " (u'/twiki/bin/view/TWiki/WelcomeGuest?rev=r1.18', 1),\n",
       " (u'/twiki/bin/view/TWiki/WelcomeGuest?rev=r1.19', 1),\n",
       " (u'/twiki/bin/edit/Sandbox/TestTopic6?topicparent=Sandbox.WebHome', 1),\n",
       " (u'/twiki/bin/edit/Main/TestArea?topicparent=Main.WebHome', 1),\n",
       " (u'/twiki/bin/edit/Main/Lmtp_quit_timeout?topicparent=Main.ConfigurationVariables',\n",
       "  1),\n",
       " (u'/twiki/bin/view/Main/PostSuper?rev=r1.1', 1),\n",
       " (u'/twiki/bin/oops/TWiki/TWikiPlannedFeatures', 1),\n",
       " (u'/twiki/bin/view/TWiki/TWikiRegistration?rev=r1.4', 1),\n",
       " (u'/twiki/bin/edit/TWiki/HaroldGottschalk?t=1078717948', 1),\n",
       " (u'/twiki/bin/view/TWiki/SearchDoesNotWork?rev=r1.1', 1),\n",
       " (u'/twiki/bin/view/Know/WebNotify', 1),\n",
       " (u'/twiki/bin/view/Main/WebPreferences?rev=r1.14', 1),\n",
       " (u'/twiki/bin/edit/Main/Smtp_line_length_limit?topicparent=Main.ConfigurationVariables',\n",
       "  1),\n",
       " (u'/twiki/bin/view/TWiki/WikiName', 1),\n",
       " (u'/twiki/bin/view/Main/WebPreferences?rev=r1.10', 1),\n",
       " (u'/mailman/admin/ppwc/members?letter=n', 1),\n",
       " (u'/twiki/bin/search/TWiki/SearchResult?scope=text&regex=on&search=Wiki%20*Notation[^A-Za-z]',\n",
       "  1),\n",
       " (u'/twiki/bin/edit/Main/Double_bounce_sender?topicparent=Main.ConfigurationVariables',\n",
       "  1),\n",
       " (u'/twiki/bin/view/TWiki/WebTopicEditTemplate', 1),\n",
       " (u'/twiki/bin/view/TWiki/TWikiHistory?rev=1.9', 1),\n",
       " (u'/twiki/bin/rdiff/TWiki/TWikiRegistration?rev1=1.10&rev2=1.9', 1),\n",
       " (u'/twiki/bin/edit/Main/Qmqpd_authorized_clients?topicparent=Main.ConfigurationVariables',\n",
       "  1),\n",
       " (u'/twiki/bin/rdiff/Main/WebChanges', 1),\n",
       " (u'/twiki/bin/rdiff/TWiki/DefaultPlugin', 1),\n",
       " (u'/twiki/bin/oops/TWiki/RegularExp', 1),\n",
       " (u'/M83A', 1),\n",
       " (u'/twiki/bin/rdiff/TWiki/ManagingTopics?rev1=1.16&rev2=1.15', 1),\n",
       " (u'/twiki/pub/TWiki/TWikiDocGraphics/tip.gif', 1),\n",
       " (u'/twiki/bin/search/TWiki/SearchResult?scope=text&regex=on&search=Web%20*Topic%20*List[^A-Za-z]',\n",
       "  1),\n",
       " (u'/twiki/bin/rdiff/Main/WebChanges?rev1=1.2&rev2=1.1', 1),\n",
       " (u'/rejected.html', 1),\n",
       " (u'/twiki/bin/search/TWiki/?scope=topic&regex=on&bookview=on&search=.*', 1),\n",
       " (u'/twiki/bin/view/TWiki/WikiTopic', 1),\n",
       " (u'/pipermail/gisgrad/', 1),\n",
       " (u'/mailman/listinfo/techcomm', 1),\n",
       " (u'/twiki/bin/search/Main/SearchResult?scope=text&regex=on&search=Web%20*Changes[^A-Za-z]',\n",
       "  1),\n",
       " (u'/twiki/pub/TWiki/TWikiLogos/twikiRobot88x31.gif', 1),\n",
       " (u'/twiki/bin/view/Main/WebPreferences?rev=r1.4', 1),\n",
       " (u'/twiki/bin/rdiff/TWiki/HaroldGottschalk?rev1=1.2&rev2=1.1', 1),\n",
       " (u'/twiki/bin/rdiff/TWiki/IncludeTopicsAndWebPages', 1),\n",
       " (u'/twiki/bin/view/Main/WebPreferences?rev=r1.2', 1),\n",
       " (u'/twiki/bin/view/TWiki/TWikiHistory?rev=r1.49', 1),\n",
       " (u'/twiki/bin/rdiff/Main/ConfigurationVariables', 1),\n",
       " (u'/twiki/bin/view/Main/WebPreferences?rev=r1.9', 1),\n",
       " (u'/twiki/bin/view/TWiki/JohnTalintyre', 1),\n",
       " (u'/twiki/bin/edit/Main/Defer_transports?topicparent=Main.ConfigurationVariables',\n",
       "  1),\n",
       " (u'/twiki/bin/search/TWiki/SearchResult?scope=text&regex=on&search=Harold%20*Gottschalk[^A-Za-z]',\n",
       "  1),\n",
       " (u'/twiki/bin/oops/Sandbox/WebChanges', 1),\n",
       " (u'/twiki/bin/oops/TWiki/ResetPassword?template=oopsmore&param1=1.4&param2=1.4',\n",
       "  1),\n",
       " (u'/twiki/bin/edit/Main/Default_delivery_slot_discount?topicparent=Main.ConfigurationVariables',\n",
       "  1),\n",
       " (u'/twiki/bin/rdiff/TWiki/TextFormattingRules?rev1=1.36&rev2=1.35', 1),\n",
       " (u'/twiki/bin/oops/Main/DCCAndPostFix?template=oopsmore&param1=1.2&param2=1.2',\n",
       "  1),\n",
       " (u'/twiki/bin/rdiff/TWiki/TWikiSkins?rev1=1.10&rev2=1.9', 1),\n",
       " (u'/twiki/bin/search/Main/?scope=topic&regex=on&search=^t', 1),\n",
       " (u'/twiki/bin/view/TWiki/WebSearch?rev=r1.10', 1),\n",
       " (u'/twiki/bin/search/Main/?scope=topic&regex=on&search=^p', 1),\n",
       " (u'/twiki/bin/view/TWiki/ManagingWebs?skin=print', 1),\n",
       " (u'/twiki/bin/search/Main/?scope=topic&regex=on&search=^f', 1),\n",
       " (u'/twiki/bin/search/Main/?scope=topic&regex=on&search=^g', 1),\n",
       " (u'/twiki/bin/search/Main/?scope=topic&regex=on&search=^d', 1),\n",
       " (u'/twiki/bin/rdiff/Main/AndreaSterbini', 1),\n",
       " (u'/twiki/bin/view/Main/WebStatistics?skin=print', 1),\n",
       " (u'/twiki/bin/view/TWiki/SearchDoesNotWork?rev=r1.2', 1),\n",
       " (u'/mailman/admin/hs_rcafaculty', 1),\n",
       " (u'/twiki/bin/view/TWiki/d43', 1),\n",
       " (u'/twiki/bin/edit/Main/TWikiForms?topicparent=Main.TWikiVariables', 1),\n",
       " (u'/twiki/bin/edit/Sandbox/TestTopic2?topicparent=Sandbox.WebHome', 1),\n",
       " (u'/twiki/bin/oops/TWiki/HaroldGottschalk?template=oopsmore&param1=1.3&param2=1.3',\n",
       "  1),\n",
       " (u'/twiki/bin/rdiff/TWiki/DefaultPlugin?rev1=1.5&rev2=1.4', 1),\n",
       " (u'/twiki/bin/view/TWiki/TWikiSiteTools', 1),\n",
       " (u'/twiki/bin/edit/Main/Always_bcc?topicparent=Main.ConfigurationVariables',\n",
       "  1),\n",
       " (u'/twiki/bin/oops/Main/WebChanges?template=oopsmore&param1=1.2&param2=1.2',\n",
       "  1),\n",
       " (u'/twiki/bin/edit/Main/TWikiGuest?t=1078713282', 1),\n",
       " (u'/twiki/bin/edit/Main/Unknown_virtual_mailbox_reject_code?topicparent=Main.ConfigurationVariables',\n",
       "  1),\n",
       " (u'/twiki/bin/edit/Main/WelcomeGuest?topicparent=Main.WebHome', 1),\n",
       " (u'/twiki/bin/rdiff/TWiki/SimultaneousEdits', 1),\n",
       " (u'/twiki/bin/view/Main/WebHome?skin=print', 1),\n",
       " (u'/twiki/bin/view/TWiki/HaroldGottschalk?rev=1.2', 1),\n",
       " (u'/twiki/bin/edit/TWiki/InterWikis?t=1078696998', 1),\n",
       " (u'/mailman/listinfo/gisgrad', 1),\n",
       " (u'/twiki/bin/edit/TWiki/TWikiCodevFeatureToDo?topicparent=TWiki.TWikiHistory',\n",
       "  1),\n",
       " (u'/twiki/bin/edit/Main/Message_size_limit?topicparent=Main.ConfigurationVariables',\n",
       "  1),\n",
       " (u'/twiki/bin/search/TWiki/SearchResult?scope=text&regex=on&search=Appendix%20*File%20*System%5B%5EA-Za-z%5D',\n",
       "  1),\n",
       " (u'/twiki/bin/view/Main/RelayGateway?rev=1.3', 1),\n",
       " (u'/twiki/bin/view/TWiki/WikiReferences?skin=print', 1),\n",
       " (u'/twiki/bin/edit/Main/Forward_expansion_filter?topicparent=Main.ConfigurationVariables',\n",
       "  1),\n",
       " (u'/twiki/bin/rdiff/Know/ReadmeFirst?rev1=1.6&rev2=1.5', 1),\n",
       " (u'/pipermail/webber/2004-January/000000.html', 1),\n",
       " (u'/twiki/bin/oops/Know/WebStatistics', 1),\n",
       " (u'/twiki/bin/rdiff/Main/SpamAssassinAndPostFix?rev1=1.2&rev2=1.1', 1),\n",
       " (u'/twiki/bin/search/Main/SearchResult?scope=text&regex=on&search=Web%20*Statistics[^A-Za-z]',\n",
       "  1),\n",
       " (u'/twiki/bin/view/TWiki/GoBox', 1),\n",
       " (u'/pipermail/webber/', 1),\n",
       " (u'/twiki/bin/rdiff/TWiki/WebTopicList', 1),\n",
       " (u'/twiki/bin/edit/Main/Smtpd_history_flush_threshold?topicparent=Main.ConfigurationVariables',\n",
       "  1),\n",
       " (u'/twiki/bin/view/TWiki/TWikiUpgradeTo01May2000', 1),\n",
       " (u'/twiki/bin/view/Main/TWi', 1),\n",
       " (u'/twiki/bin/rdiff/TWiki/NewUserTemplate?rev1=1.3&rev2=1.2', 1),\n",
       " (u'/twiki/bin/oops/TWiki/TWikiHistory?template=oopsmore&param1=1.61&param2=1.61',\n",
       "  1),\n",
       " (u'/twiki/bin/rdiff/Main/RelayGateway?rev1=1.2&rev2=1.1', 1),\n",
       " (u'/twiki/bin/view/Main/WebHome?skin=print&rev=1.25', 1),\n",
       " (u'/mailman/admin/ppwc/members/list', 1),\n",
       " (u'/mailman/listinfo/hsdivision', 1),\n",
       " (u'/mailman/private/artsscience/', 1),\n",
       " (u'/twiki/bin/view/TWiki/MartinCleaver', 1),\n",
       " (u'/twiki/bin/view/Sandbox/WebHome?rev=r1.3', 1),\n",
       " (u'/mailman/listinfo/webct', 1),\n",
       " (u'/twiki/bin/view/Main/PeterThoeny', 1),\n",
       " (u'/twiki/bin/view/Main/JorisBenschop?skin=print', 1),\n",
       " (u'/twiki/bin/rdiff/TWiki/WebSearch', 1),\n",
       " (u'/twiki/bin/view/TWiki/WikiNotation?skin=print', 1),\n",
       " (u'/twiki/bin/search/TWiki/SearchResult?scope=text&regex=on&search=Kevin%20*Kinnell[^A-Za-z]',\n",
       "  1),\n",
       " (u'/twiki/bin/edit/Main/Local_recipient_maps?topicparent=Main.ConfigurationVariables',\n",
       "  1),\n",
       " (u'/twiki/bin/rdiff/Main/TWikiGuest', 1),\n",
       " (u'/mailman/admin/mlc', 1),\n",
       " (u'/twiki/bin/view/Main/TWikiGroups?rev=1.2', 1),\n",
       " (u'/twiki/bin/search/Main/?search=\\\\\\\\.*&scope=topic&order=modified&reverse=on&regex=on&nosearch=on&limit=800',\n",
       "  1),\n",
       " (u'/twiki/bin/edit/Main/Deliver_lock_attempts?topicparent=Main.ConfigurationVariables',\n",
       "  1),\n",
       " (u'/_vti_bin/owssvr.dll?UL=1&ACT=4&BUILD=2614&STRMVER=4&CAPREQ=0', 1),\n",
       " (u'/twiki/bin/edit/TWiki/UnchangeableTopicBug?topicparent=TWiki.TWikiHistory',\n",
       "  1),\n",
       " (u'/twiki/bin/rdiff/TWiki/WebPreferences', 1),\n",
       " (u'/twiki/bin/search/TWiki/SearchResult?scope=text&regex=on&search=TWiki%20*FAQ[^A-Za-z]',\n",
       "  1),\n",
       " (u'/mailman/admin/educationadmin', 1),\n",
       " (u'/twiki/bin/attach/TWiki/AndreaSterbini', 1),\n",
       " (u'/twiki/bin/edit/Sandbox/TestTopic5?topicparent=Sandbox.WebHome', 1),\n",
       " (u'/twiki/bin/edit/TWiki/WebSiteTools?t=1078731408', 1),\n",
       " (u'/twiki/bin/edit/Main/Delay_warning_time?topicparent=Main.ConfigurationVariables',\n",
       "  1),\n",
       " (u'/twiki/bin/edit/Main/Header_address_token_limit?topicparent=Main.ConfigurationVariables',\n",
       "  1),\n",
       " (u'/twiki/bin/view/Main/TWikiUsers?rev=1.21', 1),\n",
       " (u'/twiki/bin/rdiff/TWiki/TWikiPreferences?rev1=1.47&rev2=1.46', 1),\n",
       " (u'/mailman/admin/fcd', 1),\n",
       " (u'/twiki/bin/view/Main/WebHome?rev=1.25', 1),\n",
       " (u'/pipermail/fcd/', 1),\n",
       " (u'/twiki/bin/view/Main/PostSuper?rev=1.1', 1),\n",
       " (u'/twiki/bin/rdiff/TWiki/WebRss', 1),\n",
       " (u'/twiki/bin/search/Main/SearchResult?scope=text&regex=on&search=RBLs%20*How%20*To[^A-Za-z]',\n",
       "  1),\n",
       " (u'/twiki/bin/rename/TWiki/DefaultPlugin', 1),\n",
       " (u'/twiki/bin/oops/TWiki/TWikiAccessControl', 1),\n",
       " (u'/twiki/bin/edit/TWiki/WebNotification?topicparent=TWiki.TWikiUpgradeTo01May2000',\n",
       "  1),\n",
       " (u'/twiki/bin/rdiff/TWiki/TWikiEnhancementRequests', 1),\n",
       " (u'/twiki/bin/search/TWiki/SearchResult?scope=text&regex=on&search=Change%20*Password[^A-Za-z]',\n",
       "  1),\n",
       " (u'/mailman/options/cnc_notice/arobin%40shaw.c', 1),\n",
       " (u'/twiki/bin/oops/TWiki/TextFormattingRules', 1),\n",
       " (u'/twiki/bin/edit/Main/Masquerade_classes?topicparent=Main.ConfigurationVariables',\n",
       "  1),\n",
       " (u'/twiki/bin/rdiff/TWiki/TWikiFAQ', 1),\n",
       " (u'/twiki/bin/rdiff/TWiki/InstantEnhancements', 1),\n",
       " (u'*', 1),\n",
       " (u'/twiki/bin/oops/Main/WebStatistics', 1),\n",
       " (u'/twiki/bin/view/TWiki/WebPreferences?rev=r1.9', 1),\n",
       " (u'/twiki/pub/TWiki/TWikiLogos/twikiRobot131x64.gif', 1),\n",
       " (u'/mailman/listinfo/hs_rcafaculty', 1),\n",
       " (u'/twiki/bin/rdiff/Sandbox/WebTopicList', 1),\n",
       " (u'/twiki/bin/edit/Main/KevinWGagel?t=1078670331', 1),\n",
       " (u'/mailman/listinfo/faculty', 1),\n",
       " (u'/twiki/bin/rdiff/TWiki/AlWilliams?rev1=1.3&rev2=1.2', 1),\n",
       " (u'/twiki/bin/view/Main/NicholasLee?rev=1.2', 1),\n",
       " (u'/twiki/bin/view/Main/NicholasLee?rev=1.1', 1),\n",
       " (u'/twiki/bin/view/TWiki/TWikiTopics?rev=r1.7', 1),\n",
       " (u'/twiki/bin/oops/TWiki/TextFormattingFAQ?template=oopsmore&param1=1.14&param2=1.14',\n",
       "  1),\n",
       " (u'/twiki/bin/view/Sandbox/WebHome?rev=1.6', 1),\n",
       " (u'/twiki/bin/view/Sandbox/WebIndex', 1),\n",
       " (u'/twiki/bin/rdiff/TWiki/EditDoesNotIncreaseTheRevision', 1),\n",
       " (u'/twiki/bin/view/Main/TokyoOffice', 1),\n",
       " (u'/twiki/bin/search/TWiki/SearchResult?scope=text&regex=on&search=John%20*Talintyre[^A-Za-z]',\n",
       "  1),\n",
       " (u'/twiki/bin/attach/Main/PostfixCommands', 1),\n",
       " (u'/twiki/bin/edit/TWiki/TWikiPages?topicparent=TWiki.WelcomeGuest', 1),\n",
       " (u'/twiki/bin/view/TWiki/WikiWord?rev=1.3', 1),\n",
       " (u'/twiki/bin/view/TWiki/TWikiRegistration?rev=r1.7', 1),\n",
       " (u'/twiki/bin/search/TWiki/?scope=topic&regex=on&search=.*', 1),\n",
       " (u'/twiki/bin/rdiff/TWiki/WikiWikiClones', 1),\n",
       " (u'/twiki/bin/view/TWiki/DontNotify?rev=1.1', 1),\n",
       " (u'/twiki/bin/view/TWiki/SvenDowideit?rev=1.1', 1),\n",
       " (u'/twiki/bin/attach/TWiki/DefaultPlugin', 1),\n",
       " (u'/twiki/bin/view/TWiki/TWikiHistory?rev=1.8', 1),\n",
       " (u'/mailman/admin/ppwc/passwords', 1),\n",
       " (u'/mailman/admin/deans', 1),\n",
       " (u'/twiki/bin/edit/TWiki/NewTopic?topicparent=TWiki.WikiSyntax', 1),\n",
       " (u'/mailman/private/hs_support/', 1),\n",
       " (u'/twiki/bin/rdiff/TWiki/TWikiDocGraphics?rev1=1.11&rev2=1.10', 1),\n",
       " (u'/twiki/bin/edit/TWiki/TWikiVariables?t=1078684115', 1),\n",
       " (u'/twiki/bin/edit/Main/Export_environment?topicparent=Main.ConfigurationVariables',\n",
       "  1),\n",
       " (u'/twiki/bin/rdiff/Main/NicholasLee', 1),\n",
       " (u'/twiki/bin/edit/Main/Expand_owner_alias?topicparent=Main.ConfigurationVariables',\n",
       "  1),\n",
       " (u'/twiki/bin/rdiff/TWiki/WikiSyntax', 1),\n",
       " (u'/twiki/bin/edit/Main/Maps_rbl_reject_code?topicparent=Main.ConfigurationVariables',\n",
       "  1),\n",
       " (u'/twiki/bin/view/TWiki/FileAttribute?rev=1.2', 1),\n",
       " (u'/twiki/bin/oops/Main/TWiki', 1),\n",
       " (u'/twiki/bin/oops/Know/TopicClassification', 1),\n",
       " (u'/twiki/bin/search/TWiki/SearchResult?scope=text&regex=on&search=Al%20*Williams[^A-Za-z]',\n",
       "  1),\n",
       " (u'/twiki/bin/oops/TWiki/RichardDonkin?template=oopsmore&param1=1.2&param2=1.2',\n",
       "  1),\n",
       " (u'/twiki/bin/search/Main/SearchResult?scope=text&regex=on&search=Spam%20*Assassin[^A-Za-z]',\n",
       "  1),\n",
       " (u'/twiki/bin/rdiff/TWiki/SearchDoesNotWork', 1),\n",
       " (u'/twiki/bin/view/TWiki/TWikiFAQ', 1),\n",
       " (u'/twiki/bin/rdiff/Know/ReadmeFirst?rev1=1.5&rev2=1.4', 1),\n",
       " (u'/twiki/bin/rdiff/TWiki/WebTopicEditTemplate', 1),\n",
       " (u'/twiki/bin/view/TWiki/TWikiEnhancementRequests?rev=1.3', 1),\n",
       " (u'/twiki/bin/rdiff/TWiki/AdminSkillsAssumptions', 1),\n",
       " (u'/twiki/bin/search/Main/SearchResult?scope=text&regex=on&search=Web%20*Index[^A-Za-z]',\n",
       "  1)]"
      ]
     },
     "execution_count": 11,
     "metadata": {},
     "output_type": "execute_result"
    }
   ],
   "source": [
    "import operator\n",
    "endpoint_count = log_parsed.map(lambda x: x[1]['endpoint']).countByValue()\n",
    "sorted(endpoint_count.items(), key=operator.itemgetter(1),reverse=True)"
   ]
  },
  {
   "cell_type": "code",
   "execution_count": 12,
   "metadata": {
    "collapsed": true
   },
   "outputs": [],
   "source": [
    "file_path_end = 'input_files/end_song_sample.csv'\n",
    "file_path_user = 'input_files/user_data_sample.csv'"
   ]
  },
  {
   "cell_type": "code",
   "execution_count": 13,
   "metadata": {
    "collapsed": true
   },
   "outputs": [],
   "source": [
    "from dateutil.parser import parse\n",
    "import datetime"
   ]
  },
  {
   "cell_type": "code",
   "execution_count": 14,
   "metadata": {
    "collapsed": true
   },
   "outputs": [],
   "source": [
    "end_rdd = sc.textFile(file_path_end)\n",
    "user_rdd = sc.textFile(file_path_user)"
   ]
  },
  {
   "cell_type": "code",
   "execution_count": 15,
   "metadata": {
    "collapsed": true
   },
   "outputs": [],
   "source": [
    "def parser_end(line):\n",
    "    fields = line.split(',')\n",
    "    id = fields[-1]\n",
    "    dic = {}\n",
    "    dic['ms']=int(fields[0])\n",
    "    dic['context']=fields[1]\n",
    "    dic['track']=fields[2]\n",
    "    dic['product']=fields[3]\n",
    "    #In seconds? to the nearest hundredth\n",
    "    dic['end']=float(fields[4])\n",
    "    return (id,dic)\n",
    "\n",
    "def parser_user(line):\n",
    "    fields = line.split(',')\n",
    "    id = fields[-1]\n",
    "    dic = {}\n",
    "    dic['gender']=fields[0]\n",
    "    dic['age_range']=fields[1]\n",
    "    dic['country']=fields[2]\n",
    "    dic['acct_age']=fields[3]\n",
    "    return(id,dic)"
   ]
  },
  {
   "cell_type": "code",
   "execution_count": 16,
   "metadata": {
    "collapsed": false
   },
   "outputs": [],
   "source": [
    "def safe_parse_end(line):\n",
    "    return safe(parser_end,line)\n",
    "\n",
    "def safe_parse_user(line):\n",
    "    return safe(parser_user,line)"
   ]
  },
  {
   "cell_type": "code",
   "execution_count": 17,
   "metadata": {
    "collapsed": false
   },
   "outputs": [
    {
     "data": {
      "text/plain": [
       "PythonRDD[14] at RDD at PythonRDD.scala:43"
      ]
     },
     "execution_count": 17,
     "metadata": {},
     "output_type": "execute_result"
    }
   ],
   "source": [
    "#Ignore the first line\n",
    "end_parsed = end_rdd.filter(lambda x: 'ms_played' not in x).map(safe_parse_end)\n",
    "end_parsed.persist()\n",
    "\n",
    "user_parsed = user_rdd.map(safe_parse_user)\n",
    "user_parsed.persist()\n"
   ]
  },
  {
   "cell_type": "code",
   "execution_count": 18,
   "metadata": {
    "collapsed": false
   },
   "outputs": [
    {
     "name": "stdout",
     "output_type": "stream",
     "text": [
      "defaultdict(<type 'int'>, {True: 1342891})\n",
      "defaultdict(<type 'int'>, {True: 9566})\n"
     ]
    }
   ],
   "source": [
    "print end_parsed.map(lambda x: isinstance(x[1],dict)).countByValue()\n",
    "print user_parsed.map(lambda x: isinstance(x[1],dict)).countByValue()"
   ]
  },
  {
   "cell_type": "code",
   "execution_count": 19,
   "metadata": {
    "collapsed": false
   },
   "outputs": [],
   "source": [
    "joined = end_parsed.join(user_parsed)\n",
    "joined.persist()\n",
    "del user_parsed,end_parsed"
   ]
  },
  {
   "cell_type": "code",
   "execution_count": 20,
   "metadata": {
    "collapsed": false
   },
   "outputs": [
    {
     "data": {
      "text/plain": [
       "[(u'aae4289e475c448c883443cd6ee74fd7',\n",
       "  ({'context': u'playlist',\n",
       "    'end': 1444326481.28,\n",
       "    'ms': 250400,\n",
       "    'product': u'open',\n",
       "    'track': u'a356a1c56ace4a5f99cb4079be9743a6'},\n",
       "   {'acct_age': u'15',\n",
       "    'age_range': u'45 - 54',\n",
       "    'country': u'PE',\n",
       "    'gender': u'female'}))]"
      ]
     },
     "execution_count": 20,
     "metadata": {},
     "output_type": "execute_result"
    }
   ],
   "source": [
    "joined.take(1)"
   ]
  },
  {
   "cell_type": "code",
   "execution_count": 21,
   "metadata": {
    "collapsed": false
   },
   "outputs": [
    {
     "name": "stdout",
     "output_type": "stream",
     "text": [
      "total number of songs for males:  691479\n",
      "total average total listening time for males:  128950.805728\n",
      "total number of songs for females:  649178\n",
      "total average total listening time for females:  128347.948082\n"
     ]
    }
   ],
   "source": [
    "def createCombiner(value):\n",
    "    return (value,1)\n",
    "\n",
    "def mergeValue(acc,value):\n",
    "    return (value+acc[0],acc[1]+1)\n",
    "\n",
    "def mergeCombiner(acc1,acc2):\n",
    "    return (acc1[0]+acc2[0],acc1[1]+acc2[1])\n",
    "\n",
    "sum_count = joined.map(lambda x: (x[1][1]['gender'],x[1][0]['ms'])).combineByKey(createCombiner,mergeValue,mergeCombiner).take(2)\n",
    "\n",
    "print 'total number of songs for males: ',sum_count[1][1][1]\n",
    "print 'total average total listening time for males: ',float(sum_count[1][1][0])/sum_count[1][1][1]\n",
    "print 'total number of songs for females: ',sum_count[0][1][1]\n",
    "print 'total average total listening time for females: ',float(sum_count[0][1][0])/sum_count[0][1][1]"
   ]
  },
  {
   "cell_type": "code",
   "execution_count": 22,
   "metadata": {
    "collapsed": true
   },
   "outputs": [],
   "source": [
    "import numpy as np"
   ]
  },
  {
   "cell_type": "code",
   "execution_count": 23,
   "metadata": {
    "collapsed": false
   },
   "outputs": [],
   "source": [
    "def createCombiner(value):\n",
    "    return [value]\n",
    "\n",
    "def mergeValue(acc,value):\n",
    "    acc.append(value)\n",
    "    return acc\n",
    "\n",
    "def mergeCombiner(acc1,acc2):\n",
    "    return acc1+acc2\n",
    "\n",
    "sum_count = joined.map(lambda x: ((x[1][1]['gender'],x[1][1]['age_range']),x[1][0]['ms'])).combineByKey(createCombiner,mergeValue,mergeCombiner).mapValues(lambda x: (np.median(x),np.mean(x)))"
   ]
  },
  {
   "cell_type": "code",
   "execution_count": 24,
   "metadata": {
    "collapsed": false
   },
   "outputs": [
    {
     "data": {
      "text/plain": [
       "[((u'unknown', u'35 - 44'), (228120.0, 222282.52506596307)),\n",
       " ((u'male', u'25 - 29'), (150279.0, 129650.59934334279)),\n",
       " ((u'unknown', u''), (66199.5, 112717.89358974359)),\n",
       " ((u'male', u'55+'), (145946.0, 135935.70400395166)),\n",
       " ((u'female', u'0 - 17'), (95704.5, 114569.02350113122)),\n",
       " ((u'female', u'35 - 44'), (191133.0, 153974.20628912715)),\n",
       " ((u'female', u'25 - 29'), (138533.5, 124441.19689354212)),\n",
       " ((u'female', u'18 - 24'), (120790.0, 120488.54605723236)),\n",
       " ((u'female', u'30 - 34'), (176610.0, 141273.56059230183)),\n",
       " ((u'male', u''), (17009.5, 87962.633333333331)),\n",
       " ((u'unknown', u'45 - 54'), (30232.0, 141282.96875)),\n",
       " ((u'female', u'45 - 54'), (190250.0, 155221.79916861522)),\n",
       " ((u'male', u'30 - 34'), (180613.0, 151631.11020256457)),\n",
       " ((u'female', u'55+'), (181653.0, 154511.96058238635)),\n",
       " ((u'male', u'35 - 44'), (187249.0, 158281.96195030669)),\n",
       " ((u'male', u'0 - 17'), (43762.5, 104776.17423361684)),\n",
       " ((u'male', u'18 - 24'), (71620.0, 113719.48990781416)),\n",
       " ((u'unknown', u'25 - 29'), (12320.0, 77307.761904761908)),\n",
       " ((u'unknown', u'55+'), (229006.0, 215648.72899159664)),\n",
       " ((u'unknown', u'18 - 24'), (193515.0, 163002.29999999999)),\n",
       " ((u'unknown', u'30 - 34'), (193562.0, 168885.65384615384)),\n",
       " ((u'male', u'45 - 54'), (168407.5, 145418.15903247311))]"
      ]
     },
     "execution_count": 24,
     "metadata": {},
     "output_type": "execute_result"
    }
   ],
   "source": [
    "#Format: <(gender,age_range),(median,average)>\n",
    "sum_count.collect()"
   ]
  },
  {
   "cell_type": "code",
   "execution_count": 25,
   "metadata": {
    "collapsed": false
   },
   "outputs": [
    {
     "data": {
      "text/plain": [
       "(u'US', 514371)"
      ]
     },
     "execution_count": 25,
     "metadata": {},
     "output_type": "execute_result"
    }
   ],
   "source": [
    "import operator\n",
    "country_count = joined.map(lambda x: x[1][1]['country']).countByValue()\n",
    "max(country_count.iteritems(), key=operator.itemgetter(1))"
   ]
  },
  {
   "cell_type": "code",
   "execution_count": 26,
   "metadata": {
    "collapsed": false
   },
   "outputs": [
    {
     "data": {
      "text/plain": [
       "[(u'NI', 212247.59668109668)]"
      ]
     },
     "execution_count": 26,
     "metadata": {},
     "output_type": "execute_result"
    }
   ],
   "source": [
    "def createCombiner(value):\n",
    "    return (value,1)\n",
    "\n",
    "def mergeValue(acc,value):\n",
    "    return (acc[0]+value,acc[1]+1)\n",
    "\n",
    "def mergeCombiner(acc1,acc2):\n",
    "    return (acc1[0]+acc2[0],acc1[1]+acc2[1])\n",
    "\n",
    "country_count2 = joined.map(lambda x: (x[1][1]['country'],x[1][0]['ms'])).combineByKey(createCombiner,mergeValue,mergeCombiner).mapValues(lambda x: float(x[0])/x[1])\n",
    "country_count2.top(1,key=lambda x: x[1])"
   ]
  },
  {
   "cell_type": "code",
   "execution_count": 27,
   "metadata": {
    "collapsed": false
   },
   "outputs": [
    {
     "name": "stdout",
     "output_type": "stream",
     "text": [
      "male:  [(u'A1', 218347.42510121458)]\n",
      "female:  [(u'MT', 207817.92753623187)]\n"
     ]
    }
   ],
   "source": [
    "def createCombiner(value):\n",
    "    return (value,1)\n",
    "\n",
    "def mergeValue(acc,value):\n",
    "    return (acc[0]+value,acc[1]+1)\n",
    "\n",
    "def mergeCombiner(acc1,acc2):\n",
    "    return (acc1[0]+acc2[0],acc1[1]+acc2[1])\n",
    "\n",
    "country_count_male = joined.filter(lambda x: x[1][1]['gender']=='male').map(lambda x: (x[1][1]['country'],x[1][0]['ms'])).combineByKey(createCombiner,mergeValue,mergeCombiner).mapValues(lambda x: float(x[0])/x[1])\n",
    "print 'male: ',country_count_male.top(1,key=lambda x: x[1])\n",
    "country_count_female = joined.filter(lambda x: x[1][1]['gender']=='female').map(lambda x: (x[1][1]['country'],x[1][0]['ms'])).combineByKey(createCombiner,mergeValue,mergeCombiner).mapValues(lambda x: float(x[0])/x[1])\n",
    "print 'female: ',country_count_female.top(1,key=lambda x: x[1])\n"
   ]
  },
  {
   "cell_type": "code",
   "execution_count": 28,
   "metadata": {
    "collapsed": false
   },
   "outputs": [
    {
     "name": "stdout",
     "output_type": "stream",
     "text": [
      "country with max difference for total listening time:  [(u'DE', ((6246786330, 51028), (3883585735, 30640)))]\n",
      "country with max difference for total number of songs:  [(u'DE', ((6246786330, 51028), (3883585735, 30640)))]\n"
     ]
    }
   ],
   "source": [
    "country_count_male = joined.filter(lambda x: x[1][1]['gender']=='male').map(lambda x: (x[1][1]['country'],(x[1][0]['ms']))).combineByKey(createCombiner,mergeValue,mergeCombiner)\n",
    "country_count_female = joined.filter(lambda x: x[1][1]['gender']=='female').map(lambda x: (x[1][1]['country'],x[1][0]['ms'])).combineByKey(createCombiner,mergeValue,mergeCombiner)\n",
    "\n",
    "joined_country = country_count_male.join(country_count_female)\n",
    "\n",
    "print 'country with max difference for total listening time: ', joined_country.top(1,key=lambda x: abs(x[1][1][0]-x[1][0][0]))\n",
    "print 'country with max difference for total number of songs: ', joined_country.top(1,key=lambda x: abs(x[1][1][1]-x[1][0][1]))"
   ]
  },
  {
   "cell_type": "code",
   "execution_count": 29,
   "metadata": {
    "collapsed": false
   },
   "outputs": [
    {
     "name": "stdout",
     "output_type": "stream",
     "text": [
      "10 countries with max difference for total listening time:  [(u'DE', ((6246786330, 51028), (3883585735, 30640))), (u'BR', ((4372532169, 33567), (2293929390, 18463))), (u'IT', ((2958320012, 21324), (1370377921, 9938))), (u'CA', ((1252255088, 9000), (2749479826, 18330))), (u'NL', ((1772226148, 14961), (3054178356, 19952))), (u'ES', ((5190275176, 33056), (4061521115, 31424))), (u'US', ((33179691110, 255472), (32120119010, 257770))), (u'BE', ((405546932, 3502), (1209198261, 6783))), (u'CL', ((798017465, 5372), (1445067843, 9778))), (u'NZ', ((800461078, 5417), (257414302, 3011)))]\n",
      "10 countries with max difference for total number of songs:  [(u'DE', ((6246786330, 51028), (3883585735, 30640))), (u'BR', ((4372532169, 33567), (2293929390, 18463))), (u'IT', ((2958320012, 21324), (1370377921, 9938))), (u'CA', ((1252255088, 9000), (2749479826, 18330))), (u'NO', ((575488630, 3958), (867066227, 9150))), (u'NL', ((1772226148, 14961), (3054178356, 19952))), (u'GB', ((6167828313, 50498), (5853357936, 45590))), (u'PH', ((1525267678, 12172), (1037297932, 7616))), (u'CL', ((798017465, 5372), (1445067843, 9778))), (u'SE', ((2840226640, 19882), (2656360214, 24134)))]\n"
     ]
    }
   ],
   "source": [
    "#Checking that the two are in fact different\n",
    "\n",
    "print '10 countries with max difference for total listening time: ', joined_country.top(10,key=lambda x: abs(x[1][1][0]-x[1][0][0]))\n",
    "print '10 countries with max difference for total number of songs: ', joined_country.top(10,key=lambda x: abs(x[1][1][1]-x[1][0][1]))"
   ]
  },
  {
   "cell_type": "code",
   "execution_count": 30,
   "metadata": {
    "collapsed": false
   },
   "outputs": [
    {
     "name": "stdout",
     "output_type": "stream",
     "text": [
      "country with maximum average time for users over 55:  [(u'NI', 214206.41537324464)]\n"
     ]
    }
   ],
   "source": [
    "count_55 = joined.filter(lambda x: x[1][1]['age_range']=='55+').map(lambda x: (x[1][1]['country'],(x[1][0]['ms']))).combineByKey(createCombiner,mergeValue,mergeCombiner).mapValues(lambda x: float(x[0])/x[1])\n",
    "\n",
    "print 'country with maximum average time for users over 55: ', count_55.top(1,key=lambda x:x[1])"
   ]
  },
  {
   "cell_type": "code",
   "execution_count": 57,
   "metadata": {
    "collapsed": true
   },
   "outputs": [],
   "source": [
    "def create_sessions(iterable):\n",
    "    i=0\n",
    "    #Declare them here since it looks like we have an empty session or two\n",
    "    userid = 0 \n",
    "    current_session = 0\n",
    "    first = 0\n",
    "    second = 0\n",
    "    all_sessions = []\n",
    "    session_id = 0\n",
    "    #Start time (one to save, one to update)\n",
    "    \n",
    "    for item in iterable:\n",
    "        if i == 0:\n",
    "            userid = item[0][0] \n",
    "            current_session = item[0][1]\n",
    "            first = item[0][1]\n",
    "            i=1\n",
    "        #Create new session\n",
    "        if item[0][0]!=userid:\n",
    "            #If the beginning of the session is the last thing recorded\n",
    "            if current_session!=first:\n",
    "                all_sessions.append(((userid,session_id),first-current_session))\n",
    "            #Reset all parameters for new user\n",
    "            session_id=0\n",
    "            userid=item[0][0]\n",
    "            first = item[0][1]\n",
    "            current_session = item[0][1]\n",
    "        second = item[0][1]\n",
    "        #If difference from last dropoff is more than 4 hours\n",
    "        if (second - first > (3*3600)):\n",
    "            #Append current session to list of sessions\n",
    "            all_sessions.append(((userid,session_id),first-current_session))\n",
    "            #Increment session id\n",
    "            session_id += 1\n",
    "            #Start new session\n",
    "            current_session = second\n",
    "        #Update end of previous song\n",
    "        first = second   \n",
    "    #If, by the end of the for loop, our session has not ended, append the session to the list\n",
    "    if current_session!=second:\n",
    "        all_sessions.append(((userid,session_id),first-current_session))\n",
    "    \n",
    "    return all_sessions"
   ]
  },
  {
   "cell_type": "code",
   "execution_count": 58,
   "metadata": {
    "collapsed": false
   },
   "outputs": [],
   "source": [
    "def groupByKeyAndSortByValues(rdd,numPartitions):\n",
    "    rdd_with_time=rdd.map(lambda (ip,dics):((ip,dics[0]['end']),dics[0]['end']))\n",
    "    rdd_sorted = rdd_with_time.repartitionAndSortWithinPartitions(numPartitions,lambda x:hash(x[0])%numPartitions,ascending=True)\n",
    "    \n",
    "    return rdd_sorted.mapPartitions(create_sessions)"
   ]
  },
  {
   "cell_type": "code",
   "execution_count": 59,
   "metadata": {
    "collapsed": false
   },
   "outputs": [
    {
     "data": {
      "text/plain": [
       "PythonRDD[127] at RDD at PythonRDD.scala:43"
      ]
     },
     "execution_count": 59,
     "metadata": {},
     "output_type": "execute_result"
    }
   ],
   "source": [
    "sessions = groupByKeyAndSortByValues(joined,40)\n",
    "sessions.persist()"
   ]
  },
  {
   "cell_type": "code",
   "execution_count": 60,
   "metadata": {
    "collapsed": false
   },
   "outputs": [
    {
     "data": {
      "text/plain": [
       "[((u'0179cf1fa7b941fdbbc214e61f01e283', 0), 1428.5099999904633),\n",
       " ((u'0179cf1fa7b941fdbbc214e61f01e283', 1), 1619.3100001811981),\n",
       " ((u'0179cf1fa7b941fdbbc214e61f01e283', 2), 1639.75),\n",
       " ((u'01a642d83b3249ffbc0fdd2f1188ffc7', 0), 1042.1600000858307),\n",
       " ((u'01ea4bb0fc3641a3aae36f9898aab2f2', 0), 8892.580000162125),\n",
       " ((u'01ea4bb0fc3641a3aae36f9898aab2f2', 1), 24676.96999979019),\n",
       " ((u'01ea4bb0fc3641a3aae36f9898aab2f2', 2), 0.0),\n",
       " ((u'01ea4bb0fc3641a3aae36f9898aab2f2', 3), 20388.44000005722),\n",
       " ((u'01ea4bb0fc3641a3aae36f9898aab2f2', 4), 801.9900000095367),\n",
       " ((u'01ea4bb0fc3641a3aae36f9898aab2f2', 5), 323.26000022888184),\n",
       " ((u'01ea4bb0fc3641a3aae36f9898aab2f2', 6), 8297.490000009537),\n",
       " ((u'01ea4bb0fc3641a3aae36f9898aab2f2', 7), 8346.430000066757),\n",
       " ((u'01ea4bb0fc3641a3aae36f9898aab2f2', 8), 12131.66000008583),\n",
       " ((u'01ea4bb0fc3641a3aae36f9898aab2f2', 9), 2977.5),\n",
       " ((u'01ea4bb0fc3641a3aae36f9898aab2f2', 10), 4175.509999990463),\n",
       " ((u'01ea4bb0fc3641a3aae36f9898aab2f2', 11), 3632.7000000476837),\n",
       " ((u'01ea4bb0fc3641a3aae36f9898aab2f2', 12), 3263.4700000286102),\n",
       " ((u'01ea4bb0fc3641a3aae36f9898aab2f2', 13), 571.9500000476837),\n",
       " ((u'01ea4bb0fc3641a3aae36f9898aab2f2', 14), 12084.77999997139),\n",
       " ((u'01ea4bb0fc3641a3aae36f9898aab2f2', 15), 1532.170000076294),\n",
       " ((u'01ea4bb0fc3641a3aae36f9898aab2f2', 16), 4792.050000190735),\n",
       " ((u'01ea4bb0fc3641a3aae36f9898aab2f2', 17), 20821.680000066757),\n",
       " ((u'01ea4bb0fc3641a3aae36f9898aab2f2', 18), 24771.58999991417),\n",
       " ((u'01ea4bb0fc3641a3aae36f9898aab2f2', 19), 5310.02999997139),\n",
       " ((u'01ea4bb0fc3641a3aae36f9898aab2f2', 20), 13037.019999980927),\n",
       " ((u'01ea4bb0fc3641a3aae36f9898aab2f2', 21), 0.0),\n",
       " ((u'01ea4bb0fc3641a3aae36f9898aab2f2', 22), 7138.6900000572205),\n",
       " ((u'01ea4bb0fc3641a3aae36f9898aab2f2', 23), 1061.4400000572205),\n",
       " ((u'01ea4bb0fc3641a3aae36f9898aab2f2', 24), 2194.829999923706),\n",
       " ((u'01ea4bb0fc3641a3aae36f9898aab2f2', 25), 3759.039999961853),\n",
       " ((u'01ea4bb0fc3641a3aae36f9898aab2f2', 26), 9010.349999904633),\n",
       " ((u'01ea4bb0fc3641a3aae36f9898aab2f2', 27), 9576.05999994278),\n",
       " ((u'01ea4bb0fc3641a3aae36f9898aab2f2', 28), 7300.139999866486),\n",
       " ((u'01ea4bb0fc3641a3aae36f9898aab2f2', 29), 8428.820000171661),\n",
       " ((u'01ea4bb0fc3641a3aae36f9898aab2f2', 30), 5794.47000002861),\n",
       " ((u'01ea4bb0fc3641a3aae36f9898aab2f2', 31), 7423.389999866486),\n",
       " ((u'02ae4d79e89a4186bf43084638bfb325', 0), 20330.44000005722),\n",
       " ((u'02ae4d79e89a4186bf43084638bfb325', 1), 0.0),\n",
       " ((u'02ae4d79e89a4186bf43084638bfb325', 2), 10383.009999990463),\n",
       " ((u'02ae4d79e89a4186bf43084638bfb325', 3), 13495.019999980927),\n",
       " ((u'02ae4d79e89a4186bf43084638bfb325', 4), 21721.0),\n",
       " ((u'02ae4d79e89a4186bf43084638bfb325', 5), 4781.669999837875),\n",
       " ((u'02ae4d79e89a4186bf43084638bfb325', 6), 7177.420000076294),\n",
       " ((u'02ae4d79e89a4186bf43084638bfb325', 7), 18826.950000047684),\n",
       " ((u'02ae4d79e89a4186bf43084638bfb325', 8), 327.52999997138977),\n",
       " ((u'02d946a56a354220909f94387aebf609', 0), 0.0),\n",
       " ((u'02d946a56a354220909f94387aebf609', 1), 9666.55999994278),\n",
       " ((u'02d946a56a354220909f94387aebf609', 2), 24544.789999961853),\n",
       " ((u'02d946a56a354220909f94387aebf609', 3), 9891.02999997139),\n",
       " ((u'02e70f1cff2a4679b53b79e7c3d0956c', 0), 87.98000001907349),\n",
       " ((u'02e70f1cff2a4679b53b79e7c3d0956c', 1), 716.2799999713898),\n",
       " ((u'02e70f1cff2a4679b53b79e7c3d0956c', 2), 0.0),\n",
       " ((u'02e70f1cff2a4679b53b79e7c3d0956c', 3), 0.0),\n",
       " ((u'02e70f1cff2a4679b53b79e7c3d0956c', 4), 26.920000076293945),\n",
       " ((u'02e70f1cff2a4679b53b79e7c3d0956c', 5), 235.02999997138977),\n",
       " ((u'02e70f1cff2a4679b53b79e7c3d0956c', 6), 989.0699999332428),\n",
       " ((u'02e70f1cff2a4679b53b79e7c3d0956c', 7), 0.0),\n",
       " ((u'02e70f1cff2a4679b53b79e7c3d0956c', 8), 446.3800001144409),\n",
       " ((u'02e70f1cff2a4679b53b79e7c3d0956c', 9), 994.2999999523163),\n",
       " ((u'02e70f1cff2a4679b53b79e7c3d0956c', 10), 668.5899999141693),\n",
       " ((u'02e70f1cff2a4679b53b79e7c3d0956c', 11), 0.0),\n",
       " ((u'02e70f1cff2a4679b53b79e7c3d0956c', 12), 636.920000076294),\n",
       " ((u'02e70f1cff2a4679b53b79e7c3d0956c', 13), 4219.1900000572205),\n",
       " ((u'02e70f1cff2a4679b53b79e7c3d0956c', 14), 4029.090000152588),\n",
       " ((u'02e70f1cff2a4679b53b79e7c3d0956c', 15), 0.0),\n",
       " ((u'02e70f1cff2a4679b53b79e7c3d0956c', 16), 3953.9500000476837),\n",
       " ((u'02e70f1cff2a4679b53b79e7c3d0956c', 17), 0.0),\n",
       " ((u'02e70f1cff2a4679b53b79e7c3d0956c', 18), 0.0),\n",
       " ((u'02e70f1cff2a4679b53b79e7c3d0956c', 19), 664.9700000286102),\n",
       " ((u'02e70f1cff2a4679b53b79e7c3d0956c', 20), 670.0400002002716),\n",
       " ((u'02e70f1cff2a4679b53b79e7c3d0956c', 21), 0.0),\n",
       " ((u'02e70f1cff2a4679b53b79e7c3d0956c', 22), 672.7200000286102),\n",
       " ((u'02e70f1cff2a4679b53b79e7c3d0956c', 23), 20288.07000017166),\n",
       " ((u'02e70f1cff2a4679b53b79e7c3d0956c', 24), 0.0),\n",
       " ((u'02e70f1cff2a4679b53b79e7c3d0956c', 25), 0.0),\n",
       " ((u'02e70f1cff2a4679b53b79e7c3d0956c', 26), 2025.210000038147),\n",
       " ((u'03f384f305104831b877845013132088', 0), 394.5899999141693),\n",
       " ((u'03f384f305104831b877845013132088', 1), 24.240000009536743),\n",
       " ((u'06e56ffa52dd4adca0e01eac06de7772', 0), 3767.409999847412),\n",
       " ((u'06e56ffa52dd4adca0e01eac06de7772', 1), 11343.680000066757),\n",
       " ((u'06e56ffa52dd4adca0e01eac06de7772', 2), 8242.759999990463),\n",
       " ((u'06e56ffa52dd4adca0e01eac06de7772', 3), 0.0),\n",
       " ((u'06e56ffa52dd4adca0e01eac06de7772', 4), 4157.759999990463),\n",
       " ((u'06e56ffa52dd4adca0e01eac06de7772', 5), 0.0),\n",
       " ((u'06e56ffa52dd4adca0e01eac06de7772', 6), 0.0),\n",
       " ((u'06e56ffa52dd4adca0e01eac06de7772', 7), 2407.7300000190735),\n",
       " ((u'06e56ffa52dd4adca0e01eac06de7772', 8), 3636.3499999046326),\n",
       " ((u'06e56ffa52dd4adca0e01eac06de7772', 9), 19159.36999988556),\n",
       " ((u'0c22591ad0404b6abbce006f7fc6f606', 0), 1807.5099999904633),\n",
       " ((u'0ce2612022ec43acb682b3d6196e146e', 0), 508.99000000953674),\n",
       " ((u'0d274c37210f41b09486ad5d8b6c0b9a', 0), 0.0),\n",
       " ((u'0d274c37210f41b09486ad5d8b6c0b9a', 1), 1.4200000762939453),\n",
       " ((u'0d274c37210f41b09486ad5d8b6c0b9a', 2), 1822.579999923706),\n",
       " ((u'118db3edd4584c7aa9bed21796620ab1', 0), 9163.430000066757),\n",
       " ((u'118db3edd4584c7aa9bed21796620ab1', 1), 10195.22000002861),\n",
       " ((u'11b7dec1de7d4a0993559f8e3865f729', 0), 8419.819999933243),\n",
       " ((u'125c8bd9f8f84debb8af61ed2c93a16e', 0), 2629.090000152588),\n",
       " ((u'135e00bf36714af09d5e25ae6192a92d', 0), 20061.930000066757),\n",
       " ((u'135e00bf36714af09d5e25ae6192a92d', 1), 26164.039999961853),\n",
       " ((u'135e00bf36714af09d5e25ae6192a92d', 2), 31068.52999997139)]"
      ]
     },
     "execution_count": 60,
     "metadata": {},
     "output_type": "execute_result"
    }
   ],
   "source": [
    "sessions.take(100)"
   ]
  },
  {
   "cell_type": "code",
   "execution_count": 63,
   "metadata": {
    "collapsed": false
   },
   "outputs": [
    {
     "name": "stdout",
     "output_type": "stream",
     "text": [
      "max male session duration:  [((u'3b4478b896634468984355f29a977a29', 0), 426718.71000003815)]\n",
      "min male session duration:  [((u'01ea4bb0fc3641a3aae36f9898aab2f2', 2), 0.0)]\n",
      "average male session duration:  5200.34454784\n"
     ]
    }
   ],
   "source": [
    "sessions_male = groupByKeyAndSortByValues(joined.filter(lambda x: x[1][1]['gender']=='male'),40)\n",
    "sessions_male.persist()\n",
    "print 'max male session duration: ', sessions_male.top(1,key=lambda x:x[1])\n",
    "print 'min male session duration: ', sessions_male.top(1,key=lambda x:-x[1])\n",
    "print 'average male session duration: ', sessions_male.map(lambda x: x[1]).mean()"
   ]
  },
  {
   "cell_type": "code",
   "execution_count": 64,
   "metadata": {
    "collapsed": false
   },
   "outputs": [
    {
     "name": "stdout",
     "output_type": "stream",
     "text": [
      "max female session duration:  [((u'01d7789847e9489aaca7230b8cf7f145', 0), 165160.24000000954)]\n",
      "min female session duration:  [((u'02ae4d79e89a4186bf43084638bfb325', 1), 0.0)]\n",
      "average female session duration:  4967.13046781\n"
     ]
    }
   ],
   "source": [
    "sessions_female = groupByKeyAndSortByValues(joined.filter(lambda x: x[1][1]['gender']=='female'),40)\n",
    "sessions_female.persist()\n",
    "print 'max female session duration: ', sessions_female.top(1,key=lambda x:x[1])\n",
    "print 'min female session duration: ', sessions_female.top(1,key=lambda x:-x[1])\n",
    "print 'average female session duration: ', sessions_female.map(lambda x: x[1]).mean()"
   ]
  },
  {
   "cell_type": "code",
   "execution_count": 75,
   "metadata": {
    "collapsed": true
   },
   "outputs": [],
   "source": [
    "def create_sessions_country(iterable):\n",
    "    i=0\n",
    "    #Declare them here since it looks like we have an empty session or two\n",
    "    userid = 0 \n",
    "    current_session = 0\n",
    "    first = 0\n",
    "    second = 0\n",
    "    all_sessions = []\n",
    "    session_id = 0\n",
    "    country = 0\n",
    "    #Start time (one to save, one to update)\n",
    "    \n",
    "    for item in iterable:\n",
    "        if i == 0:\n",
    "            userid = item[0][0] \n",
    "            country = item[0][1]\n",
    "            current_session = item[0][2]\n",
    "            first = item[0][2]\n",
    "            i=1\n",
    "        #Create new session\n",
    "        if item[0][0]!=userid:\n",
    "            #If the beginning of the session is the last thing recorded\n",
    "            if current_session!=first:\n",
    "                all_sessions.append(((userid,country,session_id),first-current_session))\n",
    "            #Reset all parameters for new user\n",
    "            session_id=0\n",
    "            userid=item[0][0]\n",
    "            country = item[0][1]\n",
    "            first = item[0][2]\n",
    "            current_session = item[0][2]\n",
    "        second = item[0][2]\n",
    "        #If difference from last dropoff is more than 4 hours\n",
    "        if (second - first > (3*3600)):\n",
    "            #Append current session to list of sessions\n",
    "            all_sessions.append(((userid,country,session_id),first-current_session))\n",
    "            #Increment session id\n",
    "            session_id += 1\n",
    "            #Start new session\n",
    "            current_session = second\n",
    "        #Update end of previous song\n",
    "        first = second   \n",
    "    #If, by the end of the for loop, our session has not ended, append the session to the list\n",
    "    if current_session!=second:\n",
    "        all_sessions.append(((userid,country,session_id),first-current_session))\n",
    "    \n",
    "    return all_sessions\n",
    "\n",
    "def groupByKeyAndSortByValuesCountry(rdd,numPartitions):\n",
    "    rdd_with_time=rdd.map(lambda (ip,dics):((ip,dics[1]['country'],dics[0]['end']),dics[0]['end']))\n",
    "    rdd_sorted = rdd_with_time.repartitionAndSortWithinPartitions(numPartitions,lambda x:hash(x[0])%numPartitions,ascending=True)\n",
    "    \n",
    "    return rdd_sorted.mapPartitions(create_sessions_country)\n",
    "\n",
    "sessions_male_country = groupByKeyAndSortByValuesCountry(joined.filter(lambda x: x[1][1]['gender']=='male'),40)\n",
    "sessions_female_country = groupByKeyAndSortByValuesCountry(joined.filter(lambda x: x[1][1]['gender']=='female'),40)\n",
    "\n"
   ]
  },
  {
   "cell_type": "code",
   "execution_count": 80,
   "metadata": {
    "collapsed": false
   },
   "outputs": [
    {
     "name": "stdout",
     "output_type": "stream",
     "text": [
      "[((u'01a642d83b3249ffbc0fdd2f1188ffc7', u'ES', 0), 1042.1600000858307)]\n",
      "[((u'0179cf1fa7b941fdbbc214e61f01e283', u'US', 0), 1428.5099999904633)]\n"
     ]
    }
   ],
   "source": [
    "print sessions_male_country.take(1)\n",
    "print sessions_female_country.take(1)"
   ]
  },
  {
   "cell_type": "code",
   "execution_count": 84,
   "metadata": {
    "collapsed": false
   },
   "outputs": [
    {
     "data": {
      "text/plain": [
       "[(u'NI', (20489.341499996186, 1509.2766666412354))]"
      ]
     },
     "execution_count": 84,
     "metadata": {},
     "output_type": "execute_result"
    }
   ],
   "source": [
    "def createCombiner(value):\n",
    "    return (value,1)\n",
    "\n",
    "def mergeValue(acc,value):\n",
    "    return (value+acc[0],acc[1]+1)\n",
    "\n",
    "def mergeCombiner(acc1,acc2):\n",
    "    return (acc1[0]+acc2[0],acc1[1]+acc2[1])\n",
    "\n",
    "#Average male session duration by country\n",
    "sessions_male_avg = sessions_male_country.map(lambda x: (x[0][1],x[1])).combineByKey(createCombiner,mergeValue,mergeCombiner).map(lambda x: (x[0],float(x[1][0])/x[1][1]))\n",
    "sessions_female_avg = sessions_female_country.map(lambda x: (x[0][1],x[1])).combineByKey(createCombiner,mergeValue,mergeCombiner).map(lambda x: (x[0],float(x[1][0])/x[1][1]))\n",
    "sessions_male_avg.join(sessions_female_avg).top(1,key=lambda x:abs(x[1][1]-x[1][0]))"
   ]
  },
  {
   "cell_type": "code",
   "execution_count": null,
   "metadata": {
    "collapsed": true
   },
   "outputs": [],
   "source": []
  }
 ],
 "metadata": {
  "kernelspec": {
   "display_name": "Python 2",
   "language": "python",
   "name": "python2"
  },
  "language_info": {
   "codemirror_mode": {
    "name": "ipython",
    "version": 2
   },
   "file_extension": ".py",
   "mimetype": "text/x-python",
   "name": "python",
   "nbconvert_exporter": "python",
   "pygments_lexer": "ipython2",
   "version": "2.7.11"
  }
 },
 "nbformat": 4,
 "nbformat_minor": 0
}
