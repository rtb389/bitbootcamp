{
 "cells": [
  {
   "cell_type": "code",
   "execution_count": 1,
   "metadata": {
    "collapsed": false
   },
   "outputs": [],
   "source": [
    "from pyspark.sql import SQLContext\n",
    "from pyspark.sql import functions as F"
   ]
  },
  {
   "cell_type": "code",
   "execution_count": 2,
   "metadata": {
    "collapsed": false
   },
   "outputs": [],
   "source": [
    "sqlContext = SQLContext(sc)"
   ]
  },
  {
   "cell_type": "code",
   "execution_count": null,
   "metadata": {
    "collapsed": true
   },
   "outputs": [],
   "source": [
    "######################################################################################################################"
   ]
  },
  {
   "cell_type": "code",
   "execution_count": null,
   "metadata": {
    "collapsed": true
   },
   "outputs": [],
   "source": [
    "######################################################################################################################"
   ]
  },
  {
   "cell_type": "code",
   "execution_count": null,
   "metadata": {
    "collapsed": true
   },
   "outputs": [],
   "source": [
    "######################################################################################################################"
   ]
  },
  {
   "cell_type": "code",
   "execution_count": 3,
   "metadata": {
    "collapsed": false
   },
   "outputs": [],
   "source": [
    "applications_path = 'application_data.csv'\n",
    "applications_dataframe = sqlContext.read.load(applications_path,format='com.databricks.spark.csv',header='true',inferschema='true').persist()"
   ]
  },
  {
   "cell_type": "code",
   "execution_count": 4,
   "metadata": {
    "collapsed": false
   },
   "outputs": [
    {
     "name": "stdout",
     "output_type": "stream",
     "text": [
      "root\n",
      " |-- ID: integer (nullable = true)\n",
      " |-- LEVEL: string (nullable = true)\n",
      " |-- LANG: string (nullable = true)\n",
      " |-- TWEETS: string (nullable = true)\n",
      " |-- PHD: string (nullable = true)\n",
      " |-- SALARY: double (nullable = true)\n",
      " |-- HIRE: boolean (nullable = true)\n",
      "\n"
     ]
    }
   ],
   "source": [
    "applications_dataframe.printSchema()"
   ]
  },
  {
   "cell_type": "code",
   "execution_count": 5,
   "metadata": {
    "collapsed": false
   },
   "outputs": [
    {
     "name": "stdout",
     "output_type": "stream",
     "text": [
      "+---+------+----+------+---+------+-----+\n",
      "| ID| LEVEL|LANG|TWEETS|PHD|SALARY| HIRE|\n",
      "+---+------+----+------+---+------+-----+\n",
      "|  1|Senior|Java|    No| No| 145.0|false|\n",
      "+---+------+----+------+---+------+-----+\n",
      "only showing top 1 row\n",
      "\n"
     ]
    }
   ],
   "source": [
    "applications_dataframe.show(1)"
   ]
  },
  {
   "cell_type": "code",
   "execution_count": 6,
   "metadata": {
    "collapsed": false
   },
   "outputs": [
    {
     "data": {
      "text/plain": [
       "[Row(ID=1, LEVEL=u'Senior', LANG=u'Java', TWEETS=u'No', PHD=u'No', SALARY=145.0, HIRE=False)]"
      ]
     },
     "execution_count": 6,
     "metadata": {},
     "output_type": "execute_result"
    }
   ],
   "source": [
    "applications_dataframe.head(1)"
   ]
  },
  {
   "cell_type": "code",
   "execution_count": 7,
   "metadata": {
    "collapsed": false
   },
   "outputs": [
    {
     "name": "stdout",
     "output_type": "stream",
     "text": [
      "+---+------+------+------+---+------+-----+\n",
      "| ID| LEVEL|  LANG|TWEETS|PHD|SALARY| HIRE|\n",
      "+---+------+------+------+---+------+-----+\n",
      "|  1|Senior|  Java|    No| No| 145.0|false|\n",
      "|  2|Senior|  Java|    No|Yes| 135.0|false|\n",
      "|  3|   Mid|Python|    No| No| 110.0| true|\n",
      "|  4|Junior|Python|    No| No|  85.0| true|\n",
      "|  5|Junior|     R|   Yes| No|  95.0| true|\n",
      "+---+------+------+------+---+------+-----+\n",
      "only showing top 5 rows\n",
      "\n"
     ]
    }
   ],
   "source": [
    "applications_dataframe.show(5)"
   ]
  },
  {
   "cell_type": "code",
   "execution_count": 8,
   "metadata": {
    "collapsed": false
   },
   "outputs": [
    {
     "name": "stdout",
     "output_type": "stream",
     "text": [
      "+---+------+------+------+---+------+-----+\n",
      "| ID| LEVEL|  LANG|TWEETS|PHD|SALARY| HIRE|\n",
      "+---+------+------+------+---+------+-----+\n",
      "|  1|Senior|  Java|    No| No| 145.0|false|\n",
      "|  2|Senior|  Java|    No|Yes| 135.0|false|\n",
      "|  3|   Mid|Python|    No| No| 110.0| true|\n",
      "|  4|Junior|Python|    No| No|  85.0| true|\n",
      "|  5|Junior|     R|   Yes| No|  95.0| true|\n",
      "|  6|Junior|     R|   Yes|Yes|  65.0|false|\n",
      "|  7|   Mid|     R|   Yes|Yes|  95.0| true|\n",
      "|  8|Senior|Python|    No| No| 120.0|false|\n",
      "|  9|Senior|     R|   Yes| No| 135.0| true|\n",
      "| 10|Junior|Python|   Yes| No|  70.0| true|\n",
      "| 11|Senior|Python|   Yes|Yes| 115.0| true|\n",
      "| 12|   Mid|Python|    No|Yes| 105.0| true|\n",
      "+---+------+------+------+---+------+-----+\n",
      "\n"
     ]
    }
   ],
   "source": [
    "applications_dataframe.show()"
   ]
  },
  {
   "cell_type": "code",
   "execution_count": 9,
   "metadata": {
    "collapsed": false
   },
   "outputs": [
    {
     "data": {
      "text/plain": [
       "12"
      ]
     },
     "execution_count": 9,
     "metadata": {},
     "output_type": "execute_result"
    }
   ],
   "source": [
    "applications_dataframe.count()"
   ]
  },
  {
   "cell_type": "code",
   "execution_count": 10,
   "metadata": {
    "collapsed": false
   },
   "outputs": [
    {
     "data": {
      "text/plain": [
       "10"
      ]
     },
     "execution_count": 10,
     "metadata": {},
     "output_type": "execute_result"
    }
   ],
   "source": [
    "applications_dataframe.select('SALARY').distinct().count()"
   ]
  },
  {
   "cell_type": "code",
   "execution_count": 11,
   "metadata": {
    "collapsed": false
   },
   "outputs": [
    {
     "name": "stdout",
     "output_type": "stream",
     "text": [
      "+------+\n",
      "|SALARY|\n",
      "+------+\n",
      "| 105.0|\n",
      "|  65.0|\n",
      "| 115.0|\n",
      "| 145.0|\n",
      "| 110.0|\n",
      "|  85.0|\n",
      "|  95.0|\n",
      "| 120.0|\n",
      "|  70.0|\n",
      "| 135.0|\n",
      "+------+\n",
      "\n"
     ]
    }
   ],
   "source": [
    "applications_dataframe.select('SALARY').distinct().show()"
   ]
  },
  {
   "cell_type": "code",
   "execution_count": 12,
   "metadata": {
    "collapsed": false
   },
   "outputs": [
    {
     "name": "stdout",
     "output_type": "stream",
     "text": [
      "+------+----------+\n",
      "|  LANG|max_salary|\n",
      "+------+----------+\n",
      "|     R|     135.0|\n",
      "|Python|     120.0|\n",
      "|  Java|     145.0|\n",
      "+------+----------+\n",
      "\n"
     ]
    }
   ],
   "source": [
    "applications_dataframe.select('SALARY','LANG').groupby('LANG').agg(F.max(applications_dataframe.SALARY).alias('max_salary')).show()"
   ]
  },
  {
   "cell_type": "code",
   "execution_count": 13,
   "metadata": {
    "collapsed": false
   },
   "outputs": [
    {
     "name": "stdout",
     "output_type": "stream",
     "text": [
      "+---+------+------+------+---+------+-----+\n",
      "| ID| LEVEL|  LANG|TWEETS|PHD|SALARY| HIRE|\n",
      "+---+------+------+------+---+------+-----+\n",
      "|  1|Senior|  Java|    No| No| 145.0|false|\n",
      "|  2|Senior|  Java|    No|Yes| 135.0|false|\n",
      "|  8|Senior|Python|    No| No| 120.0|false|\n",
      "|  9|Senior|     R|   Yes| No| 135.0| true|\n",
      "| 11|Senior|Python|   Yes|Yes| 115.0| true|\n",
      "+---+------+------+------+---+------+-----+\n",
      "\n"
     ]
    }
   ],
   "source": [
    "applications_dataframe.filter(applications_dataframe.LEVEL=='Senior').show()"
   ]
  },
  {
   "cell_type": "code",
   "execution_count": 14,
   "metadata": {
    "collapsed": false
   },
   "outputs": [
    {
     "name": "stdout",
     "output_type": "stream",
     "text": [
      "+---+------+------+------+---+------+----+\n",
      "| ID| LEVEL|  LANG|TWEETS|PHD|SALARY|HIRE|\n",
      "+---+------+------+------+---+------+----+\n",
      "|  3|   Mid|Python|    No| No| 110.0|true|\n",
      "|  4|Junior|Python|    No| No|  85.0|true|\n",
      "| 10|Junior|Python|   Yes| No|  70.0|true|\n",
      "| 11|Senior|Python|   Yes|Yes| 115.0|true|\n",
      "| 12|   Mid|Python|    No|Yes| 105.0|true|\n",
      "+---+------+------+------+---+------+----+\n",
      "\n"
     ]
    }
   ],
   "source": [
    "applications_dataframe.where((applications_dataframe.LANG=='Python')&(applications_dataframe.HIRE)).show()"
   ]
  },
  {
   "cell_type": "code",
   "execution_count": 15,
   "metadata": {
    "collapsed": false
   },
   "outputs": [
    {
     "data": {
      "text/plain": [
       "4"
      ]
     },
     "execution_count": 15,
     "metadata": {},
     "output_type": "execute_result"
    }
   ],
   "source": [
    "applications_dataframe.where(applications_dataframe.LANG=='R').count()"
   ]
  },
  {
   "cell_type": "code",
   "execution_count": null,
   "metadata": {
    "collapsed": true
   },
   "outputs": [],
   "source": [
    "######################################################################################################################"
   ]
  },
  {
   "cell_type": "code",
   "execution_count": null,
   "metadata": {
    "collapsed": true
   },
   "outputs": [],
   "source": [
    "######################################################################################################################"
   ]
  },
  {
   "cell_type": "code",
   "execution_count": null,
   "metadata": {
    "collapsed": true
   },
   "outputs": [],
   "source": [
    "######################################################################################################################"
   ]
  },
  {
   "cell_type": "code",
   "execution_count": 16,
   "metadata": {
    "collapsed": true
   },
   "outputs": [],
   "source": [
    "crunchbase_path='crunchbase.csv'\n",
    "crunchbase_df=sqlContext.read.format('com.databricks.spark.csv').options(header='true',inferschema='true',treatEmptyValuesAsNulls='true').load(crunchbase_path)"
   ]
  },
  {
   "cell_type": "code",
   "execution_count": 17,
   "metadata": {
    "collapsed": false
   },
   "outputs": [
    {
     "name": "stdout",
     "output_type": "stream",
     "text": [
      "root\n",
      " |-- name: string (nullable = true)\n",
      " |-- homepage_url: string (nullable = true)\n",
      " |-- market: string (nullable = true)\n",
      " |-- funding_total_usd: long (nullable = true)\n",
      " |-- status: string (nullable = true)\n",
      " |-- country_code: string (nullable = true)\n",
      " |-- state_code: string (nullable = true)\n",
      " |-- region: string (nullable = true)\n",
      " |-- city: string (nullable = true)\n",
      " |-- funding_rounds: integer (nullable = true)\n",
      " |-- founded_year: integer (nullable = true)\n",
      "\n"
     ]
    }
   ],
   "source": [
    "crunchbase_df.printSchema()"
   ]
  },
  {
   "cell_type": "code",
   "execution_count": 18,
   "metadata": {
    "collapsed": false
   },
   "outputs": [
    {
     "name": "stdout",
     "output_type": "stream",
     "text": [
      "+--------------------+--------------------+--------------------+-----------------+---------+------------+----------+--------------------+-----------------+--------------+------------+\n",
      "|                name|        homepage_url|              market|funding_total_usd|   status|country_code|state_code|              region|             city|funding_rounds|founded_year|\n",
      "+--------------------+--------------------+--------------------+-----------------+---------+------------+----------+--------------------+-----------------+--------------+------------+\n",
      "|  &TV Communications|http://enjoyandtv...|               Games|          4000000|operating|         USA|        CA|         Los Angeles|      Los Angeles|             2|        null|\n",
      "|  -R- Ranch and Mine|                null|             Tourism|            60000|operating|         USA|        TX|              Dallas|       Fort Worth|             2|        2014|\n",
      "|       .Club Domains|    http://nic.club/|            Software|          7000000|     null|         USA|        FL|      Ft. Lauderdale|     Oakland Park|             1|        2011|\n",
      "|    004 Technologies|http://004gmbh.de...|            Software|                0|operating|         USA|        IL|Springfield Illinois|        Champaign|             1|        2010|\n",
      "|             1-4 All|                null|            Software|                0|operating|         USA|        NC|          NC - Other|Connellys Springs|             1|        null|\n",
      "|       1-800-DENTIST|http://www.1800de...| Health and Wellness|                0|operating|         USA|        CA|         Los Angeles|      Los Angeles|             1|        1986|\n",
      "|       1-800-DOCTORS|http://1800doctor...| Health and Wellness|          1750000|operating|         USA|        NJ|              Newark|           Iselin|             1|        1984|\n",
      "|    1.618 Technology|                null|         Real Estate|                0|operating|         USA|        FL|             Orlando|          Orlando|             1|        2013|\n",
      "|University of Mar...|      http://umd.edu|           Education|        750500000|operating|         USA|        MD|     Washington D.C.|     College Park|             2|        null|\n",
      "|         10-20 Media|http://www.10-20m...|          E-Commerce|          2050000|operating|         USA|        MD|           Baltimore|         Woodbine|             4|        2001|\n",
      "|          1000 Corks|http://1000corks.com|              Search|            40000|operating|         USA|        OR|     Portland Oregon|      Lake Oswego|             1|        2008|\n",
      "|        1000memories|http://1000memori...|         Curated Web|          2535000| acquired|         USA|        CA|         SF Bay Area|    San Francisco|             2|        2010|\n",
      "|     1000museums.com|http://www.1000mu...|         Curated Web|          4962651|operating|         USA|        WA|             Seattle|         Bellevue|             6|        2008|\n",
      "|           100health|http://www.redoxe...|Health Care Infor...|           420000|operating|         USA|        WI|             Madison|          Madison|             1|        2014|\n",
      "|             100Plus|http://www.100plu...|           Analytics|          1250000| acquired|         USA|        CA|         SF Bay Area|    San Francisco|             2|        2011|\n",
      "+--------------------+--------------------+--------------------+-----------------+---------+------------+----------+--------------------+-----------------+--------------+------------+\n",
      "only showing top 15 rows\n",
      "\n"
     ]
    }
   ],
   "source": [
    "crunchbase_df.show(15) #.head(15) also works"
   ]
  },
  {
   "cell_type": "code",
   "execution_count": 19,
   "metadata": {
    "collapsed": false
   },
   "outputs": [
    {
     "data": {
      "text/plain": [
       "28766"
      ]
     },
     "execution_count": 19,
     "metadata": {},
     "output_type": "execute_result"
    }
   ],
   "source": [
    "crunchbase_df.count()"
   ]
  },
  {
   "cell_type": "code",
   "execution_count": 20,
   "metadata": {
    "collapsed": false
   },
   "outputs": [
    {
     "name": "stdout",
     "output_type": "stream",
     "text": [
      "name\n",
      "homepage_url\n",
      "market\n",
      "funding_total_usd\n",
      "status\n",
      "country_code\n",
      "state_code\n",
      "region\n",
      "city\n",
      "funding_rounds\n",
      "founded_year\n"
     ]
    }
   ],
   "source": [
    "for col in crunchbase_df.columns:\n",
    "    print col"
   ]
  },
  {
   "cell_type": "code",
   "execution_count": 21,
   "metadata": {
    "collapsed": false
   },
   "outputs": [
    {
     "name": "stdout",
     "output_type": "stream",
     "text": [
      "11\n"
     ]
    }
   ],
   "source": [
    "print len(crunchbase_df.columns)"
   ]
  },
  {
   "cell_type": "code",
   "execution_count": 22,
   "metadata": {
    "collapsed": false
   },
   "outputs": [
    {
     "name": "stdout",
     "output_type": "stream",
     "text": [
      "+-------+--------------------+------------------+------------------+\n",
      "|summary|   funding_total_usd|    funding_rounds|      founded_year|\n",
      "+-------+--------------------+------------------+------------------+\n",
      "|  count|               28766|             28766|             23614|\n",
      "|   mean|1.6170509541924493E7|1.8867065285406384|2006.7869060726687|\n",
      "| stddev| 1.937159916449309E8|1.4814195016404221| 8.021103827340228|\n",
      "|    min|                   0|                 1|              1902|\n",
      "|    max|         30079503000|                18|              2014|\n",
      "+-------+--------------------+------------------+------------------+\n",
      "\n"
     ]
    }
   ],
   "source": [
    "crunchbase_df.describe().show()"
   ]
  },
  {
   "cell_type": "code",
   "execution_count": 23,
   "metadata": {
    "collapsed": false
   },
   "outputs": [
    {
     "data": {
      "text/plain": [
       "532"
      ]
     },
     "execution_count": 23,
     "metadata": {},
     "output_type": "execute_result"
    }
   ],
   "source": [
    "crunchbase_df.where(crunchbase_df.state_code=='OH').count()"
   ]
  },
  {
   "cell_type": "code",
   "execution_count": 24,
   "metadata": {
    "collapsed": false
   },
   "outputs": [
    {
     "data": {
      "text/plain": [
       "183"
      ]
     },
     "execution_count": 24,
     "metadata": {},
     "output_type": "execute_result"
    }
   ],
   "source": [
    "crunchbase_df.where((crunchbase_df.city=='Cleveland')|(crunchbase_df.region=='Cleveland')).count()"
   ]
  },
  {
   "cell_type": "code",
   "execution_count": 25,
   "metadata": {
    "collapsed": false
   },
   "outputs": [
    {
     "data": {
      "text/plain": [
       "23961"
      ]
     },
     "execution_count": 25,
     "metadata": {},
     "output_type": "execute_result"
    }
   ],
   "source": [
    "crunchbase_df.where(crunchbase_df.status=='operating').count()"
   ]
  },
  {
   "cell_type": "code",
   "execution_count": 26,
   "metadata": {
    "collapsed": false
   },
   "outputs": [
    {
     "data": {
      "text/plain": [
       "11881"
      ]
     },
     "execution_count": 26,
     "metadata": {},
     "output_type": "execute_result"
    }
   ],
   "source": [
    "crunchbase_df.where(crunchbase_df.funding_rounds>1).count()"
   ]
  },
  {
   "cell_type": "code",
   "execution_count": 27,
   "metadata": {
    "collapsed": false
   },
   "outputs": [
    {
     "data": {
      "text/plain": [
       "[Row(name=u'Verizon Communications', homepage_url=u'http://www.verizon.com/?lid=//global//residential', market=u'Mobile', funding_total_usd=30079503000, status=u'operating', country_code=u'USA', state_code=u'NY', region=u'New York City', city=u'New York', funding_rounds=5, founded_year=1983),\n",
       " Row(name=u'Clearwire', homepage_url=u'http://www.clearwire.com', market=u'Internet', funding_total_usd=5700000000, status=u'acquired', country_code=u'USA', state_code=u'WA', region=u'Seattle', city=u'Kirkland', funding_rounds=4, founded_year=2003),\n",
       " Row(name=u'Charter Communications', homepage_url=u'http://www.charter.com', market=None, funding_total_usd=5162513431, status=u'operating', country_code=u'USA', state_code=u'CT', region=u'Hartford', city=u'Stamford', funding_rounds=2, founded_year=1993),\n",
       " Row(name=u'First Data Corporation', homepage_url=u'http://www.firstdata.com', market=u'Trading', funding_total_usd=3500000000, status=u'operating', country_code=u'USA', state_code=u'GA', region=u'Atlanta', city=u'Atlanta', funding_rounds=1, founded_year=1971),\n",
       " Row(name=u'sigmacare', homepage_url=u'http://sigmacare.com', market=u'Health and Wellness', funding_total_usd=2600000000, status=u'operating', country_code=u'USA', state_code=u'NY', region=u'New York City', city=u'New York', funding_rounds=1, founded_year=2005),\n",
       " Row(name=u'Facebook', homepage_url=u'http://facebook.com', market=u'Communities', funding_total_usd=2425700000, status=u'operating', country_code=u'USA', state_code=u'CA', region=u'SF Bay Area', city=u'Menlo Park', funding_rounds=11, founded_year=2004),\n",
       " Row(name=u'Carestream', homepage_url=u'http://www.carestream.com', market=u'Biotechnology', funding_total_usd=2400000000, status=u'operating', country_code=u'USA', state_code=u'NY', region=u'Rochester New York', city=u'Rochester', funding_rounds=1, founded_year=2007),\n",
       " Row(name=u'Zebra Technologies', homepage_url=u'http://www.zebra.com', market=u'Enterprise Software', funding_total_usd=2000000000, status=u'operating', country_code=u'USA', state_code=u'IL', region=u'Chicago', city=u'Lincolnshire', funding_rounds=1, founded_year=1991),\n",
       " Row(name=u'Quad/Graphics', homepage_url=u'http://www.qg.com', market=u'Local Businesses', funding_total_usd=1900000000, status=u'operating', country_code=u'USA', state_code=u'WI', region=u'Milwaukee', city=u'Sussex', funding_rounds=1, founded_year=1971),\n",
       " Row(name=u'Solyndra', homepage_url=u'http://www.solyndra.com', market=u'Manufacturing', funding_total_usd=1567504319, status=u'closed', country_code=u'USA', state_code=u'CA', region=u'SF Bay Area', city=u'Fremont', funding_rounds=8, founded_year=2005)]"
      ]
     },
     "execution_count": 27,
     "metadata": {},
     "output_type": "execute_result"
    }
   ],
   "source": [
    "crunchbase_df.orderBy('funding_total_usd',ascending=False).head(10)"
   ]
  },
  {
   "cell_type": "code",
   "execution_count": 28,
   "metadata": {
    "collapsed": false
   },
   "outputs": [
    {
     "name": "stdout",
     "output_type": "stream",
     "text": [
      "+---------+-----+\n",
      "|   status|count|\n",
      "+---------+-----+\n",
      "|operating|23961|\n",
      "| acquired| 2784|\n",
      "|   closed| 1463|\n",
      "+---------+-----+\n",
      "\n"
     ]
    }
   ],
   "source": [
    "crunchbase_df.filter(crunchbase_df.status!='null').groupBy('status').count().orderBy('count',ascending=False).show()"
   ]
  },
  {
   "cell_type": "code",
   "execution_count": 29,
   "metadata": {
    "collapsed": false
   },
   "outputs": [
    {
     "name": "stdout",
     "output_type": "stream",
     "text": [
      "+-------------------+-----+\n",
      "|             market|count|\n",
      "+-------------------+-----+\n",
      "|           Software| 2961|\n",
      "|      Biotechnology| 2716|\n",
      "|             Mobile| 1032|\n",
      "|        Curated Web|  941|\n",
      "|        Health Care|  915|\n",
      "|Enterprise Software|  859|\n",
      "|         E-Commerce|  756|\n",
      "|Health and Wellness|  731|\n",
      "|   Clean Technology|  710|\n",
      "|Hardware + Software|  697|\n",
      "|        Advertising|  612|\n",
      "|              Games|  567|\n",
      "|          Education|  502|\n",
      "|            Finance|  485|\n",
      "|      Manufacturing|  442|\n",
      "|          Analytics|  413|\n",
      "|       Social Media|  402|\n",
      "|           Security|  333|\n",
      "|         Consulting|  320|\n",
      "|     Semiconductors|  314|\n",
      "|        Hospitality|  313|\n",
      "|        Web Hosting|  279|\n",
      "|        Real Estate|  268|\n",
      "|               News|  218|\n",
      "|            Medical|  214|\n",
      "+-------------------+-----+\n",
      "only showing top 25 rows\n",
      "\n"
     ]
    }
   ],
   "source": [
    "crunchbase_df.filter(crunchbase_df.market!='null').groupBy('market').count().orderBy('count',ascending=False).show(25)"
   ]
  },
  {
   "cell_type": "code",
   "execution_count": 30,
   "metadata": {
    "collapsed": false
   },
   "outputs": [
    {
     "name": "stdout",
     "output_type": "stream",
     "text": [
      "+----------+-----+\n",
      "|state_code|count|\n",
      "+----------+-----+\n",
      "|        CA| 9917|\n",
      "|        NY| 2913|\n",
      "|        MA| 1969|\n",
      "|        TX| 1466|\n",
      "|        WA|  974|\n",
      "|        FL|  963|\n",
      "|        IL|  827|\n",
      "|        PA|  792|\n",
      "|        CO|  723|\n",
      "|        NJ|  579|\n",
      "+----------+-----+\n",
      "only showing top 10 rows\n",
      "\n"
     ]
    }
   ],
   "source": [
    "crunchbase_df.groupBy('state_code').count().orderBy('count',ascending=False).show(10)"
   ]
  },
  {
   "cell_type": "code",
   "execution_count": 31,
   "metadata": {
    "collapsed": false
   },
   "outputs": [
    {
     "name": "stdout",
     "output_type": "stream",
     "text": [
      "+-------------+-----+\n",
      "|         city|count|\n",
      "+-------------+-----+\n",
      "|San Francisco| 2615|\n",
      "|     New York| 2333|\n",
      "|    Palo Alto|  597|\n",
      "|       Austin|  583|\n",
      "|      Seattle|  554|\n",
      "|      Chicago|  513|\n",
      "|  Los Angeles|  507|\n",
      "|Mountain View|  497|\n",
      "|    San Diego|  483|\n",
      "|       Boston|  460|\n",
      "+-------------+-----+\n",
      "only showing top 10 rows\n",
      "\n"
     ]
    }
   ],
   "source": [
    "crunchbase_df.groupBy('city').count().orderBy('count',ascending=False).show(10)"
   ]
  },
  {
   "cell_type": "code",
   "execution_count": 32,
   "metadata": {
    "collapsed": false
   },
   "outputs": [
    {
     "name": "stdout",
     "output_type": "stream",
     "text": [
      "+-------------------+-----+\n",
      "|             market|count|\n",
      "+-------------------+-----+\n",
      "|      Biotechnology|   21|\n",
      "|           Software|   14|\n",
      "|        Health Care|    9|\n",
      "|Health and Wellness|    7|\n",
      "|        Curated Web|    6|\n",
      "|Hardware + Software|    6|\n",
      "|          Education|    6|\n",
      "|   Clean Technology|    4|\n",
      "|               SaaS|    3|\n",
      "|          Analytics|    3|\n",
      "+-------------------+-----+\n",
      "only showing top 10 rows\n",
      "\n"
     ]
    }
   ],
   "source": [
    "#Just checked, none are cleveland with lowercase c\n",
    "crunchbase_df.filter((crunchbase_df.region=='Cleveland')&(crunchbase_df.market!='null')).groupBy('market').count().orderBy('count',ascending=False).show(10)"
   ]
  },
  {
   "cell_type": "code",
   "execution_count": 33,
   "metadata": {
    "collapsed": false
   },
   "outputs": [
    {
     "name": "stdout",
     "output_type": "stream",
     "text": [
      "+--------------------+--------------------+-------------------+-----------------+---------+------------+----------+------------------+-------------+--------------+------------+\n",
      "|                name|        homepage_url|             market|funding_total_usd|   status|country_code|state_code|            region|         city|funding_rounds|founded_year|\n",
      "+--------------------+--------------------+-------------------+-----------------+---------+------------+----------+------------------+-------------+--------------+------------+\n",
      "|Verizon Communica...|http://www.verizo...|             Mobile|      30079503000|operating|         USA|        NY|     New York City|     New York|             5|        1983|\n",
      "|           Clearwire|http://www.clearw...|           Internet|       5700000000| acquired|         USA|        WA|           Seattle|     Kirkland|             4|        2003|\n",
      "|Charter Communica...|http://www.charte...|               null|       5162513431|operating|         USA|        CT|          Hartford|     Stamford|             2|        1993|\n",
      "|First Data Corpor...|http://www.firstd...|            Trading|       3500000000|operating|         USA|        GA|           Atlanta|      Atlanta|             1|        1971|\n",
      "|           sigmacare|http://sigmacare.com|Health and Wellness|       2600000000|operating|         USA|        NY|     New York City|     New York|             1|        2005|\n",
      "|            Facebook| http://facebook.com|        Communities|       2425700000|operating|         USA|        CA|       SF Bay Area|   Menlo Park|            11|        2004|\n",
      "|          Carestream|http://www.carest...|      Biotechnology|       2400000000|operating|         USA|        NY|Rochester New York|    Rochester|             1|        2007|\n",
      "|  Zebra Technologies|http://www.zebra.com|Enterprise Software|       2000000000|operating|         USA|        IL|           Chicago| Lincolnshire|             1|        1991|\n",
      "|       Quad/Graphics|   http://www.qg.com|   Local Businesses|       1900000000|operating|         USA|        WI|         Milwaukee|       Sussex|             1|        1971|\n",
      "|                Uber| http://www.uber.com|     Transportation|       1507450000|operating|         USA|        CA|       SF Bay Area|San Francisco|             6|        2009|\n",
      "+--------------------+--------------------+-------------------+-----------------+---------+------------+----------+------------------+-------------+--------------+------------+\n",
      "only showing top 10 rows\n",
      "\n"
     ]
    }
   ],
   "source": [
    "crunchbase_df.filter((crunchbase_df.status=='operating')|(crunchbase_df.status=='acquired')).orderBy('funding_total_usd',ascending=False).show(10)"
   ]
  },
  {
   "cell_type": "code",
   "execution_count": 34,
   "metadata": {
    "collapsed": false
   },
   "outputs": [
    {
     "name": "stdout",
     "output_type": "stream",
     "text": [
      "+--------------------+--------------------+-------------------+-----------------+---------+------------+----------+--------------------+-----------+--------------+------------+\n",
      "|                name|        homepage_url|             market|funding_total_usd|   status|country_code|state_code|              region|       city|funding_rounds|founded_year|\n",
      "+--------------------+--------------------+-------------------+-----------------+---------+------------+----------+--------------------+-----------+--------------+------------+\n",
      "|             Ziegler|http://www.ziegle...| Financial Services|         21675000|operating|         USA|        IL|             Chicago|    Chicago|             2|        1902|\n",
      "|Loma Linda Univer...| http://www.llu.edu/|               null|           600000|operating|         USA|        CA|Ontario - Inland ...| Loma Linda|             1|        1905|\n",
      "|     Owensboro Grain|http://www.owensb...|      Manufacturing|         10000000|operating|         USA|        KY|          KY - Other|  Owensboro|             1|        1906|\n",
      "|CES Acquisition Corp|http://www.calver...|               null|          6000000|operating|         USA|        MD|           Baltimore|Hunt Valley|             2|        1906|\n",
      "|               Xerox|http://www.xerox.com|Hardware + Software|       1100000000|operating|         USA|        AL|          AL - Other|     Normal|             1|        1906|\n",
      "|Justrite Manufact...|http://www.justri...|               null|         14800000|operating|         USA|        IL|Springfield Illinois|    Mattoon|             1|        1906|\n",
      "|Liberator Medical...|http://liberatorm...|Health and Wellness|          7000000|operating|         USA|        FL|Florida's Treasur...|     Stuart|             1|        1906|\n",
      "|       Since1910.com|http://www.since1...|            Jewelry|           100000|operating|         USA|        NY|         Long Island|Garden City|             1|        1910|\n",
      "|University of Ten...|http://www.uthsc....|               null|          1800000|operating|         USA|        TN|             Memphis|    Memphis|             1|        1911|\n",
      "|Northcentral Tech...|      http://ntc.edu|          Education|          6200000|operating|         USA|        WI|          WI - Other|     Antigo|             1|        1912|\n",
      "+--------------------+--------------------+-------------------+-----------------+---------+------------+----------+--------------------+-----------+--------------+------------+\n",
      "only showing top 10 rows\n",
      "\n"
     ]
    }
   ],
   "source": [
    "crunchbase_df.filter((crunchbase_df.status=='operating')&(crunchbase_df.founded_year<2000)&(crunchbase_df.founded_year>0)).orderBy('founded_year').show(10)"
   ]
  },
  {
   "cell_type": "code",
   "execution_count": 35,
   "metadata": {
    "collapsed": false
   },
   "outputs": [
    {
     "name": "stdout",
     "output_type": "stream",
     "text": [
      "+--------------------+--------------------+-------------------+-----------------+---------+------------+----------+--------------------+-----------+--------------+------------+\n",
      "|                name|        homepage_url|             market|funding_total_usd|   status|country_code|state_code|              region|       city|funding_rounds|founded_year|\n",
      "+--------------------+--------------------+-------------------+-----------------+---------+------------+----------+--------------------+-----------+--------------+------------+\n",
      "|Loma Linda Univer...| http://www.llu.edu/|               null|           600000|operating|         USA|        CA|Ontario - Inland ...| Loma Linda|             1|        1905|\n",
      "|Liberator Medical...|http://liberatorm...|Health and Wellness|          7000000|operating|         USA|        FL|Florida's Treasur...|     Stuart|             1|        1906|\n",
      "|Justrite Manufact...|http://www.justri...|               null|         14800000|operating|         USA|        IL|Springfield Illinois|    Mattoon|             1|        1906|\n",
      "|     Owensboro Grain|http://www.owensb...|      Manufacturing|         10000000|operating|         USA|        KY|          KY - Other|  Owensboro|             1|        1906|\n",
      "|               Xerox|http://www.xerox.com|Hardware + Software|       1100000000|operating|         USA|        AL|          AL - Other|     Normal|             1|        1906|\n",
      "|       Since1910.com|http://www.since1...|            Jewelry|           100000|operating|         USA|        NY|         Long Island|Garden City|             1|        1910|\n",
      "|University of Ten...|http://www.uthsc....|               null|          1800000|operating|         USA|        TN|             Memphis|    Memphis|             1|        1911|\n",
      "|Northcentral Tech...|      http://ntc.edu|          Education|          6200000|operating|         USA|        WI|          WI - Other|     Antigo|             1|        1912|\n",
      "|Arkansas Children...|http://archildren...|      Biotechnology|          3500000|operating|         USA|        AR|         Little Rock|Little Rock|             1|        1912|\n",
      "|     Rice University|http://www.rice.edu/|               null|         11750000|operating|         USA|        TX|             Houston|    Houston|             1|        1912|\n",
      "+--------------------+--------------------+-------------------+-----------------+---------+------------+----------+--------------------+-----------+--------------+------------+\n",
      "only showing top 10 rows\n",
      "\n"
     ]
    }
   ],
   "source": [
    "crunchbase_df.filter((crunchbase_df.status=='operating')&(crunchbase_df.founded_year<2000)&(crunchbase_df.funding_rounds==1)&(crunchbase_df.founded_year>0)).orderBy('founded_year').show(10)"
   ]
  },
  {
   "cell_type": "raw",
   "metadata": {},
   "source": []
  },
  {
   "cell_type": "code",
   "execution_count": 36,
   "metadata": {
    "collapsed": false
   },
   "outputs": [
    {
     "name": "stdout",
     "output_type": "stream",
     "text": [
      "+------------+-----+\n",
      "|founded_year|count|\n",
      "+------------+-----+\n",
      "|        2011| 2884|\n",
      "|        2012| 2826|\n",
      "|        2010| 2295|\n",
      "|        2013| 2058|\n",
      "|        2009| 1902|\n",
      "|        2008| 1512|\n",
      "|        2007| 1509|\n",
      "|        2006| 1211|\n",
      "|        2005|  957|\n",
      "|        2014|  793|\n",
      "|        2004|  792|\n",
      "|        2003|  626|\n",
      "|        2000|  584|\n",
      "|        1999|  551|\n",
      "|        2002|  550|\n",
      "|        2001|  499|\n",
      "|        1998|  309|\n",
      "|        1997|  237|\n",
      "|        1996|  212|\n",
      "|        1995|  164|\n",
      "|        1994|  111|\n",
      "|        1993|   81|\n",
      "|        1992|   80|\n",
      "|        1989|   63|\n",
      "|        1990|   63|\n",
      "+------------+-----+\n",
      "only showing top 25 rows\n",
      "\n"
     ]
    }
   ],
   "source": [
    "crunchbase_df.filter(crunchbase_df.founded_year>0).groupBy('founded_year').count().orderBy('count',ascending=False).show(25)"
   ]
  },
  {
   "cell_type": "code",
   "execution_count": 37,
   "metadata": {
    "collapsed": false
   },
   "outputs": [
    {
     "name": "stdout",
     "output_type": "stream",
     "text": [
      "+-------------------+-----+\n",
      "|             market|count|\n",
      "+-------------------+-----+\n",
      "|           Software|  847|\n",
      "|      Biotechnology|  478|\n",
      "|             Mobile|  411|\n",
      "|         E-Commerce|  324|\n",
      "|        Curated Web|  275|\n",
      "|          Education|  240|\n",
      "|Health and Wellness|  237|\n",
      "|Enterprise Software|  228|\n",
      "|        Health Care|  204|\n",
      "|            Finance|  184|\n",
      "|        Advertising|  179|\n",
      "|              Games|  174|\n",
      "|          Analytics|  166|\n",
      "|       Social Media|  165|\n",
      "|        Hospitality|  157|\n",
      "|Hardware + Software|  150|\n",
      "|        Real Estate|  145|\n",
      "|            Fashion|  125|\n",
      "|         Consulting|  120|\n",
      "|      Manufacturing|  115|\n",
      "|            Medical|  105|\n",
      "|               News|  103|\n",
      "|      Entertainment|   97|\n",
      "|   Clean Technology|   97|\n",
      "|             Sports|   82|\n",
      "+-------------------+-----+\n",
      "only showing top 25 rows\n",
      "\n"
     ]
    }
   ],
   "source": [
    "crunchbase_df.where((crunchbase_df.founded_year >=2010)&(crunchbase_df.founded_year <=2014)\\\n",
    "                    &(crunchbase_df.market!='null')&(crunchbase_df.status=='operating')).groupBy('market').count().orderBy('count',ascending=False).show(25)"
   ]
  },
  {
   "cell_type": "code",
   "execution_count": 38,
   "metadata": {
    "collapsed": false
   },
   "outputs": [
    {
     "name": "stdout",
     "output_type": "stream",
     "text": [
      "+----------+-----+\n",
      "|state_code|count|\n",
      "+----------+-----+\n",
      "|        CA|  113|\n",
      "|        TX|   36|\n",
      "|        MA|   28|\n",
      "|        FL|   19|\n",
      "|        NY|   19|\n",
      "|        PA|   18|\n",
      "|        CO|   17|\n",
      "|        NJ|   15|\n",
      "|        UT|   14|\n",
      "|        CT|   12|\n",
      "+----------+-----+\n",
      "only showing top 10 rows\n",
      "\n"
     ]
    }
   ],
   "source": [
    "crunchbase_df.where(crunchbase_df.market=='Manufacturing').groupBy('state_code').count().orderBy('count',ascending=False).show(10)"
   ]
  },
  {
   "cell_type": "code",
   "execution_count": 39,
   "metadata": {
    "collapsed": false
   },
   "outputs": [
    {
     "name": "stdout",
     "output_type": "stream",
     "text": [
      "+-------------+-----+\n",
      "|         city|count|\n",
      "+-------------+-----+\n",
      "|      Houston|   13|\n",
      "|      Fremont|   12|\n",
      "|    San Diego|    9|\n",
      "|     San Jose|    8|\n",
      "|       Austin|    8|\n",
      "|      Boulder|    7|\n",
      "|San Francisco|    7|\n",
      "|     New York|    7|\n",
      "|   Pittsburgh|    7|\n",
      "|      Seattle|    5|\n",
      "+-------------+-----+\n",
      "\n"
     ]
    }
   ],
   "source": [
    "manufacturing_cities = crunchbase_df.where(crunchbase_df.market=='Manufacturing').groupBy('city').count().orderBy('count',ascending=False).limit(10)\n",
    "manufacturing_cities.show()"
   ]
  },
  {
   "cell_type": "code",
   "execution_count": 40,
   "metadata": {
    "collapsed": false
   },
   "outputs": [],
   "source": [
    "#manufacturing_cities.write.save('manufacturing_cities.csv',format='csv')"
   ]
  },
  {
   "cell_type": "code",
   "execution_count": 41,
   "metadata": {
    "collapsed": false
   },
   "outputs": [
    {
     "name": "stdout",
     "output_type": "stream",
     "text": [
      "+----------------+-----+\n",
      "|            city|count|\n",
      "+----------------+-----+\n",
      "|         Paducah|    1|\n",
      "|        Rockport|    1|\n",
      "|     Noblesville|    1|\n",
      "|       Lafayette|    1|\n",
      "|          Norman|    1|\n",
      "|North Versailles|    1|\n",
      "|        Stanhope|    1|\n",
      "|      Pine Brook|    1|\n",
      "|     Lake Linden|    1|\n",
      "|     Springfield|    1|\n",
      "+----------------+-----+\n",
      "\n"
     ]
    }
   ],
   "source": [
    "manufacturing_cities_low = crunchbase_df.where(crunchbase_df.market=='Manufacturing').groupBy('city').count().orderBy('count').limit(10)\n",
    "manufacturing_cities_low.show()"
   ]
  },
  {
   "cell_type": "code",
   "execution_count": 42,
   "metadata": {
    "collapsed": false
   },
   "outputs": [],
   "source": [
    "#manufacturing_cities_low.write.save('manufacturing_cities',format='csv',mode='append')"
   ]
  },
  {
   "cell_type": "code",
   "execution_count": 43,
   "metadata": {
    "collapsed": false
   },
   "outputs": [
    {
     "name": "stdout",
     "output_type": "stream",
     "text": [
      "+-------------------+-----+\n",
      "|             market|count|\n",
      "+-------------------+-----+\n",
      "|      Biotechnology|   19|\n",
      "|           Software|   13|\n",
      "|        Health Care|    9|\n",
      "|Health and Wellness|    6|\n",
      "|          Education|    6|\n",
      "|Hardware + Software|    5|\n",
      "|        Curated Web|    5|\n",
      "|   Clean Technology|    4|\n",
      "|          Analytics|    3|\n",
      "|        Real Estate|    3|\n",
      "+-------------------+-----+\n",
      "only showing top 10 rows\n",
      "\n"
     ]
    }
   ],
   "source": [
    "crunchbase_df.where((crunchbase_df.status=='operating')&(crunchbase_df.region=='Cleveland')&(crunchbase_df.market!='null'))\\\n",
    ".groupBy('market').count().orderBy('count',ascending=False).show(10)"
   ]
  },
  {
   "cell_type": "code",
   "execution_count": 44,
   "metadata": {
    "collapsed": false
   },
   "outputs": [
    {
     "name": "stdout",
     "output_type": "stream",
     "text": [
      "+-------------------+-----+\n",
      "|             market|count|\n",
      "+-------------------+-----+\n",
      "|           Software|  194|\n",
      "|         E-Commerce|  116|\n",
      "|        Curated Web|  111|\n",
      "|      Biotechnology|  111|\n",
      "|        Advertising|  107|\n",
      "|             Mobile|   80|\n",
      "|            Finance|   68|\n",
      "|          Education|   56|\n",
      "|            Fashion|   51|\n",
      "|Health and Wellness|   49|\n",
      "+-------------------+-----+\n",
      "only showing top 10 rows\n",
      "\n"
     ]
    }
   ],
   "source": [
    "crunchbase_df.where((crunchbase_df.status=='operating')&(crunchbase_df.state_code=='NY')&(crunchbase_df.city!='New York City')&(crunchbase_df.market!='null'))\\\n",
    ".groupBy('market').count().orderBy('count',ascending=False).show(10)"
   ]
  },
  {
   "cell_type": "code",
   "execution_count": null,
   "metadata": {
    "collapsed": true
   },
   "outputs": [],
   "source": [
    "######################################################################################################################"
   ]
  },
  {
   "cell_type": "code",
   "execution_count": null,
   "metadata": {
    "collapsed": true
   },
   "outputs": [],
   "source": [
    "######################################################################################################################"
   ]
  },
  {
   "cell_type": "code",
   "execution_count": null,
   "metadata": {
    "collapsed": true
   },
   "outputs": [],
   "source": [
    "######################################################################################################################"
   ]
  },
  {
   "cell_type": "code",
   "execution_count": 45,
   "metadata": {
    "collapsed": true
   },
   "outputs": [],
   "source": [
    "salaries_path = 'Salaries.csv'\n",
    "salaries_df = sqlContext.read.format('com.databricks.spark.csv').options(header='true',inferschema='true',treatEmptyValuesAsNulls='true').load(salaries_path).persist()"
   ]
  },
  {
   "cell_type": "code",
   "execution_count": 46,
   "metadata": {
    "collapsed": false
   },
   "outputs": [
    {
     "name": "stdout",
     "output_type": "stream",
     "text": [
      "root\n",
      " |-- Id: integer (nullable = true)\n",
      " |-- EmployeeName: string (nullable = true)\n",
      " |-- JobTitle: string (nullable = true)\n",
      " |-- BasePay: string (nullable = true)\n",
      " |-- OvertimePay: string (nullable = true)\n",
      " |-- OtherPay: string (nullable = true)\n",
      " |-- Benefits: string (nullable = true)\n",
      " |-- TotalPay: double (nullable = true)\n",
      " |-- TotalPayBenefits: double (nullable = true)\n",
      " |-- Year: integer (nullable = true)\n",
      " |-- Notes: string (nullable = true)\n",
      " |-- Agency: string (nullable = true)\n",
      " |-- Status: string (nullable = true)\n",
      "\n"
     ]
    }
   ],
   "source": [
    "salaries_df.printSchema()"
   ]
  },
  {
   "cell_type": "code",
   "execution_count": 47,
   "metadata": {
    "collapsed": true
   },
   "outputs": [],
   "source": [
    "columns = ['BasePay','OvertimePay','OtherPay','Benefits','TotalPay','TotalPayBenefits']\n",
    "for col in columns:\n",
    "    salaries_df=salaries_df.withColumn(col+'_new',salaries_df[col].cast('float')).drop(col).withColumnRenamed(col+'_new',col)"
   ]
  },
  {
   "cell_type": "code",
   "execution_count": 48,
   "metadata": {
    "collapsed": false
   },
   "outputs": [
    {
     "name": "stdout",
     "output_type": "stream",
     "text": [
      "root\n",
      " |-- Id: integer (nullable = true)\n",
      " |-- EmployeeName: string (nullable = true)\n",
      " |-- JobTitle: string (nullable = true)\n",
      " |-- Year: integer (nullable = true)\n",
      " |-- Notes: string (nullable = true)\n",
      " |-- Agency: string (nullable = true)\n",
      " |-- Status: string (nullable = true)\n",
      " |-- BasePay: float (nullable = true)\n",
      " |-- OvertimePay: float (nullable = true)\n",
      " |-- OtherPay: float (nullable = true)\n",
      " |-- Benefits: float (nullable = true)\n",
      " |-- TotalPay: float (nullable = true)\n",
      " |-- TotalPayBenefits: float (nullable = true)\n",
      "\n"
     ]
    }
   ],
   "source": [
    "salaries_df.printSchema()"
   ]
  },
  {
   "cell_type": "code",
   "execution_count": 49,
   "metadata": {
    "collapsed": false
   },
   "outputs": [
    {
     "name": "stdout",
     "output_type": "stream",
     "text": [
      "+------+------------------+\n",
      "|Status|  percent of total|\n",
      "+------+------------------+\n",
      "|    PT|10.618617729761729|\n",
      "|    FT| 15.02415003968948|\n",
      "+------+------------------+\n",
      "\n"
     ]
    }
   ],
   "source": [
    "salaries_count = salaries_df.filter(salaries_df.Status!='null').groupBy('Status').count()\n",
    "salaries_count.withColumn('percent of total',100*salaries_count['count']/salaries_df.count()).drop('count').show()"
   ]
  },
  {
   "cell_type": "code",
   "execution_count": 50,
   "metadata": {
    "collapsed": false
   },
   "outputs": [
    {
     "name": "stdout",
     "output_type": "stream",
     "text": [
      "+----+-----+\n",
      "|Year|count|\n",
      "+----+-----+\n",
      "|2011|36159|\n",
      "|2012|36766|\n",
      "|2013|37606|\n",
      "|2014|38123|\n",
      "+----+-----+\n",
      "\n"
     ]
    }
   ],
   "source": [
    "salaries_df.groupBy('Year').count().show()"
   ]
  },
  {
   "cell_type": "code",
   "execution_count": 51,
   "metadata": {
    "collapsed": false
   },
   "outputs": [
    {
     "name": "stdout",
     "output_type": "stream",
     "text": [
      "+--------------+---------------+---------+---------+\n",
      "|  EmployeeName|       JobTitle| TotalPay|Benefits?|\n",
      "+--------------+---------------+---------+---------+\n",
      "|Gregory P Suhr|Chief of Police|339282.06|     true|\n",
      "+--------------+---------------+---------+---------+\n",
      "only showing top 1 row\n",
      "\n"
     ]
    }
   ],
   "source": [
    "salaries_df.where(salaries_df.Year==2013).orderBy('TotalPayBenefits',ascending=False)\\\n",
    ".select(['EmployeeName','JobTitle','TotalPay','Benefits']).withColumn('Benefits?',salaries_df.Benefits>0).drop('Benefits').show(1)"
   ]
  },
  {
   "cell_type": "code",
   "execution_count": 52,
   "metadata": {
    "collapsed": false
   },
   "outputs": [
    {
     "name": "stdout",
     "output_type": "stream",
     "text": [
      "+--------------------+--------+\n",
      "|            JobTitle|Benefits|\n",
      "+--------------------+--------+\n",
      "|         Dept Head V|84681.82|\n",
      "|Gen Mgr, Public T...|82001.94|\n",
      "|         Dept Head V|81824.37|\n",
      "+--------------------+--------+\n",
      "only showing top 3 rows\n",
      "\n"
     ]
    }
   ],
   "source": [
    "salaries_df.where(salaries_df.Year==2012).orderBy('Benefits',ascending=False)\\\n",
    ".select(['JobTitle','Benefits']).show(3)"
   ]
  },
  {
   "cell_type": "code",
   "execution_count": 53,
   "metadata": {
    "collapsed": false
   },
   "outputs": [
    {
     "name": "stdout",
     "output_type": "stream",
     "text": [
      "+-----------+---------+\n",
      "|   JobTitle|    range|\n",
      "+-----------+---------+\n",
      "|Dept Head V|264873.12|\n",
      "+-----------+---------+\n",
      "only showing top 1 row\n",
      "\n"
     ]
    }
   ],
   "source": [
    "salaries_df.where(salaries_df.BasePay>=40000).select(['JobTitle','BasePay']).groupBy('JobTitle')\\\n",
    ".agg((F.max('BasePay')-F.min('BasePay')).alias('range')).orderBy('range',ascending=False).show(1)"
   ]
  },
  {
   "cell_type": "code",
   "execution_count": 54,
   "metadata": {
    "collapsed": false
   },
   "outputs": [
    {
     "name": "stdout",
     "output_type": "stream",
     "text": [
      "+--------------------+-----------------+------------------+------------------+\n",
      "|            JobTitle|    avg_Base_2014|     avg_Base_2011|        % increase|\n",
      "+--------------------+-----------------+------------------+------------------+\n",
      "|    Mayoral Staff XI| 73687.0771484375|  12196.7998046875| 504.1509111276708|\n",
      "|Senior Transcribe...|   61950.83984375|    16642.03515625| 272.2551915201552|\n",
      "|       Criminalist I|77066.97916666667|22181.673177083332|247.43537401987908|\n",
      "|        Audiometrist|          36474.0| 10595.14013671875| 244.2521715554748|\n",
      "|     Mayoral Staff V|    36777.0703125|  13223.7998046875| 178.1127274738647|\n",
      "+--------------------+-----------------+------------------+------------------+\n",
      "only showing top 5 rows\n",
      "\n"
     ]
    }
   ],
   "source": [
    "avg_2011 = salaries_df.where(salaries_df.Year==2011).select(['JobTitle','BasePay']).groupBy('JobTitle').agg((F.avg('BasePay')).alias('avg_Base_2011')).drop('BasePay').withColumnRenamed('JobTitle','JobTitleA')\n",
    "avg_2014 = salaries_df.where(salaries_df.Year==2014).select(['JobTitle','BasePay']).groupBy('JobTitle').agg((F.avg('BasePay')).alias('avg_Base_2014')).drop('BasePay')\n",
    "join = avg_2014.join(avg_2011,F.upper(avg_2011.JobTitleA)==F.upper(avg_2014.JobTitle),'inner').drop('JobTitleA')\n",
    "join.withColumn('% increase',100*(join.avg_Base_2014-join.avg_Base_2011)/join.avg_Base_2011).orderBy('% increase',ascending=False).show(5)"
   ]
  },
  {
   "cell_type": "code",
   "execution_count": 55,
   "metadata": {
    "collapsed": false
   },
   "outputs": [
    {
     "name": "stdout",
     "output_type": "stream",
     "text": [
      "+----+-------------+\n",
      "|Year|max(TotalPay)|\n",
      "+----+-------------+\n",
      "|2011|    567595.44|\n",
      "|2012|    362844.66|\n",
      "|2013|     347102.3|\n",
      "|2014|    471952.62|\n",
      "+----+-------------+\n",
      "\n"
     ]
    }
   ],
   "source": [
    "salaries_df.groupBy('Year').agg(F.max('TotalPay')).show()"
   ]
  },
  {
   "cell_type": "code",
   "execution_count": 56,
   "metadata": {
    "collapsed": false
   },
   "outputs": [
    {
     "name": "stdout",
     "output_type": "stream",
     "text": [
      "+---------------+------------+\n",
      "|       JobTitle| AvgOtherPay|\n",
      "+---------------+------------+\n",
      "|Sheriff (SFERS)|124080.65625|\n",
      "+---------------+------------+\n",
      "only showing top 1 row\n",
      "\n"
     ]
    }
   ],
   "source": [
    "salaries_df.where(salaries_df.Year==2012).groupBy('JobTitle').agg((F.avg('OtherPay')).alias('AvgOtherPay')).orderBy('AvgOtherPay',ascending=False).show(1)"
   ]
  },
  {
   "cell_type": "code",
   "execution_count": 57,
   "metadata": {
    "collapsed": false
   },
   "outputs": [
    {
     "name": "stdout",
     "output_type": "stream",
     "text": [
      "+--------------------+\n",
      "|            JobTitle|\n",
      "+--------------------+\n",
      "|Sergeant, (Police...|\n",
      "|INSPECTOR III, (P...|\n",
      "|SERGEANT II (POLI...|\n",
      "|INSPECTOR II, (PO...|\n",
      "|CAPTAIN III (POLI...|\n",
      "|ASSISTANT INSPECT...|\n",
      "|ASSISTANT INSPECT...|\n",
      "|Lieutenant (Polic...|\n",
      "|SERGEANT III (POL...|\n",
      "|LIEUTENANT I, (PO...|\n",
      "|DEPUTY CHIEF III ...|\n",
      "|COMMANDER III, (P...|\n",
      "|LIEUTENANT III (P...|\n",
      "|INSPECTOR, (POLIC...|\n",
      "|SERGEANT I (POLIC...|\n",
      "|Inspector, (Polic...|\n",
      "|LIEUTENANT II (PO...|\n",
      "|ASSISTANT INSPECT...|\n",
      "+--------------------+\n",
      "\n"
     ]
    }
   ],
   "source": [
    "#Doesn't look like there's overlap in cases, but not entirely sure\n",
    "police = salaries_df.filter(F.lower(salaries_df.JobTitle).like('%police department%')).select('JobTitle').distinct()\n",
    "police.show()"
   ]
  },
  {
   "cell_type": "code",
   "execution_count": 58,
   "metadata": {
    "collapsed": true
   },
   "outputs": [],
   "source": [
    "new_police = police.withColumnRenamed('JobTitle','JT')"
   ]
  },
  {
   "cell_type": "code",
   "execution_count": 59,
   "metadata": {
    "collapsed": true
   },
   "outputs": [],
   "source": [
    "from pyspark.sql.functions import udf"
   ]
  },
  {
   "cell_type": "code",
   "execution_count": 60,
   "metadata": {
    "collapsed": false
   },
   "outputs": [],
   "source": [
    "column_trans = udf(lambda column: '50-99k' if column <100000 else '100k-199k' if column < 200000  else '200k+', pyspark.sql.types.StringType())\n"
   ]
  },
  {
   "cell_type": "code",
   "execution_count": 61,
   "metadata": {
    "collapsed": false
   },
   "outputs": [
    {
     "name": "stdout",
     "output_type": "stream",
     "text": [
      "+--------------------+---------+-----+\n",
      "|            JobTitle| PayRange|count|\n",
      "+--------------------+---------+-----+\n",
      "|LIEUTENANT II (PO...|100k-199k|    1|\n",
      "|INSPECTOR II, (PO...|100k-199k|    3|\n",
      "|ASSISTANT INSPECT...|100k-199k|    1|\n",
      "|ASSISTANT INSPECT...|100k-199k|    9|\n",
      "|ASSISTANT INSPECT...|100k-199k|   10|\n",
      "|COMMANDER III, (P...|100k-199k|    3|\n",
      "|LIEUTENANT III (P...|100k-199k|   92|\n",
      "|INSPECTOR III, (P...|    200k+|    7|\n",
      "|CAPTAIN III (POLI...|   50-99k|    1|\n",
      "|SERGEANT II (POLI...|100k-199k|   19|\n",
      "|SERGEANT III (POL...|100k-199k|  287|\n",
      "|COMMANDER III, (P...|    200k+|    4|\n",
      "|LIEUTENANT III (P...|   50-99k|    1|\n",
      "|SERGEANT I (POLIC...|    200k+|    1|\n",
      "|CAPTAIN III (POLI...|    200k+|   17|\n",
      "|SERGEANT III (POL...|   50-99k|    2|\n",
      "|LIEUTENANT III (P...|    200k+|    5|\n",
      "|SERGEANT III (POL...|    200k+|    6|\n",
      "|DEPUTY CHIEF III ...|    200k+|    5|\n",
      "|INSPECTOR, (POLIC...|100k-199k|    4|\n",
      "+--------------------+---------+-----+\n",
      "only showing top 20 rows\n",
      "\n"
     ]
    }
   ],
   "source": [
    "salaries_df.where(salaries_df.Year==2011).join(new_police,F.lower(salaries_df.JobTitle)==F.lower(new_police.JT))\\\n",
    ".select(['JobTitle','TotalPayBenefits']).withColumn(\"PayRange\",column_trans(salaries_df.TotalPayBenefits)).groupBy(['JobTitle','PayRange']).count().show()"
   ]
  },
  {
   "cell_type": "code",
   "execution_count": 62,
   "metadata": {
    "collapsed": false
   },
   "outputs": [
    {
     "data": {
      "text/plain": [
       "1648"
      ]
     },
     "execution_count": 62,
     "metadata": {},
     "output_type": "execute_result"
    }
   ],
   "source": [
    "salaries_df.where(((salaries_df.Year==2012)|(salaries_df.Year==2014))&(F.lower(salaries_df.EmployeeName).like(\"%john%\"))).count()"
   ]
  },
  {
   "cell_type": "code",
   "execution_count": null,
   "metadata": {
    "collapsed": true
   },
   "outputs": [],
   "source": [
    "######################################################################################################################"
   ]
  },
  {
   "cell_type": "code",
   "execution_count": null,
   "metadata": {
    "collapsed": true
   },
   "outputs": [],
   "source": [
    "######################################################################################################################"
   ]
  },
  {
   "cell_type": "code",
   "execution_count": null,
   "metadata": {
    "collapsed": true
   },
   "outputs": [],
   "source": [
    "######################################################################################################################"
   ]
  },
  {
   "cell_type": "code",
   "execution_count": 63,
   "metadata": {
    "collapsed": false
   },
   "outputs": [],
   "source": [
    "schools_df=sqlContext.read.format('csv').options(header='true',inferschema='true').load('schools.csv')\n",
    "cwur_df=sqlContext.read.format('csv').options(header='true',inferschema='true').load('cwurData.csv')\n",
    "shanghai_df=sqlContext.read.format('csv').options(header='true',inferschema='true').load('shanghaiData.csv')\n",
    "times_df=sqlContext.read.format('csv').options(header='true',inferschema='true').load('timesData.csv')"
   ]
  },
  {
   "cell_type": "code",
   "execution_count": 64,
   "metadata": {
    "collapsed": false
   },
   "outputs": [
    {
     "name": "stdout",
     "output_type": "stream",
     "text": [
      "root\n",
      " |-- school_name: string (nullable = true)\n",
      " |-- country: string (nullable = true)\n",
      "\n"
     ]
    }
   ],
   "source": [
    "schools_df.printSchema()"
   ]
  },
  {
   "cell_type": "code",
   "execution_count": 65,
   "metadata": {
    "collapsed": false
   },
   "outputs": [
    {
     "name": "stdout",
     "output_type": "stream",
     "text": [
      "root\n",
      " |-- world_rank: integer (nullable = true)\n",
      " |-- institution: string (nullable = true)\n",
      " |-- country: string (nullable = true)\n",
      " |-- national_rank: integer (nullable = true)\n",
      " |-- quality_of_education: integer (nullable = true)\n",
      " |-- alumni_employment: integer (nullable = true)\n",
      " |-- quality_of_faculty: integer (nullable = true)\n",
      " |-- publications: integer (nullable = true)\n",
      " |-- influence: integer (nullable = true)\n",
      " |-- citations: integer (nullable = true)\n",
      " |-- broad_impact: integer (nullable = true)\n",
      " |-- patents: integer (nullable = true)\n",
      " |-- score: double (nullable = true)\n",
      " |-- year: integer (nullable = true)\n",
      "\n"
     ]
    }
   ],
   "source": [
    "cwur_df.printSchema()"
   ]
  },
  {
   "cell_type": "code",
   "execution_count": 66,
   "metadata": {
    "collapsed": false
   },
   "outputs": [
    {
     "name": "stdout",
     "output_type": "stream",
     "text": [
      "root\n",
      " |-- world_rank: string (nullable = true)\n",
      " |-- university_name: string (nullable = true)\n",
      " |-- national_rank: string (nullable = true)\n",
      " |-- total_score: double (nullable = true)\n",
      " |-- alumni: double (nullable = true)\n",
      " |-- award: double (nullable = true)\n",
      " |-- hici: double (nullable = true)\n",
      " |-- ns: double (nullable = true)\n",
      " |-- pub: double (nullable = true)\n",
      " |-- pcp: double (nullable = true)\n",
      " |-- year: integer (nullable = true)\n",
      "\n"
     ]
    }
   ],
   "source": [
    "shanghai_df.printSchema()"
   ]
  },
  {
   "cell_type": "code",
   "execution_count": 67,
   "metadata": {
    "collapsed": false
   },
   "outputs": [
    {
     "name": "stdout",
     "output_type": "stream",
     "text": [
      "root\n",
      " |-- world_rank: string (nullable = true)\n",
      " |-- university_name: string (nullable = true)\n",
      " |-- country: string (nullable = true)\n",
      " |-- teaching: double (nullable = true)\n",
      " |-- international: double (nullable = true)\n",
      " |-- research: double (nullable = true)\n",
      " |-- citations: double (nullable = true)\n",
      " |-- income: double (nullable = true)\n",
      " |-- total_score: double (nullable = true)\n",
      " |-- num_students: string (nullable = true)\n",
      " |-- student_staff_ratio: double (nullable = true)\n",
      " |-- international_students: string (nullable = true)\n",
      " |-- female_male_ratio: string (nullable = true)\n",
      " |-- year: integer (nullable = true)\n",
      "\n"
     ]
    }
   ],
   "source": [
    "times_df.printSchema()"
   ]
  },
  {
   "cell_type": "code",
   "execution_count": 68,
   "metadata": {
    "collapsed": false
   },
   "outputs": [
    {
     "name": "stdout",
     "output_type": "stream",
     "text": [
      "cwur:  1023\n",
      "shanghai:  659\n",
      "times:  819\n"
     ]
    }
   ],
   "source": [
    "print 'cwur: ', cwur_df[['institution']].distinct().count()\n",
    "print 'shanghai: ', shanghai_df[['university_name']].distinct().count()\n",
    "print 'times: ', times_df[['university_name']].distinct().count()"
   ]
  },
  {
   "cell_type": "code",
   "execution_count": 69,
   "metadata": {
    "collapsed": false
   },
   "outputs": [
    {
     "data": {
      "text/plain": [
       "1453"
      ]
     },
     "execution_count": 69,
     "metadata": {},
     "output_type": "execute_result"
    }
   ],
   "source": [
    "cwur_df[['institution']].unionAll(shanghai_df[['university_name']].unionAll(times_df[['university_name']])).distinct().count()"
   ]
  },
  {
   "cell_type": "code",
   "execution_count": 70,
   "metadata": {
    "collapsed": false
   },
   "outputs": [
    {
     "name": "stdout",
     "output_type": "stream",
     "text": [
      "+--------------------+-----+--------------------+-----------+-------------+------------------+\n",
      "|         institution|score|     university_name|total_score|total_score_t|             total|\n",
      "+--------------------+-----+--------------------+-----------+-------------+------------------+\n",
      "|  Harvard University|100.0|  Harvard University|      100.0|         93.9|             293.9|\n",
      "| Stanford University|99.09| Stanford University|       72.1|         93.8|            264.99|\n",
      "|University of Cam...|97.64|University of Cam...|       69.2|         92.3|            259.14|\n",
      "|University of Oxford|97.51|University of Oxford|       57.4|         93.9|            248.81|\n",
      "| Columbia University|97.41| Columbia University|       59.6|         85.2|242.20999999999998|\n",
      "|Princeton University|88.56|Princeton University|       60.7|         92.7|241.95999999999998|\n",
      "|California Instit...| 85.5|California Instit...|       60.5|         94.9|             240.9|\n",
      "|University of Chi...|92.03|University of Chi...|       57.4|         87.8|237.23000000000002|\n",
      "|     Yale University|88.11|     Yale University|       55.2|         87.4|            230.71|\n",
      "|University of Cal...|78.35|University of Cal...|       51.9|         86.3|            216.55|\n",
      "+--------------------+-----+--------------------+-----------+-------------+------------------+\n",
      "only showing top 10 rows\n",
      "\n"
     ]
    }
   ],
   "source": [
    "times_df = times_df.withColumnRenamed('total_score','total_score_t')\n",
    "times_df = times_df.withColumnRenamed('university_name','name')\n",
    "temp = shanghai_df[shanghai_df.year==2014]['university_name','total_score']\\\n",
    "      .join(times_df[times_df.year==2014]['name','total_score_t'],\\\n",
    "            shanghai_df.university_name==times_df.name)['university_name','total_score','total_score_t']\n",
    "temp = cwur_df[cwur_df.year==2014][['institution','score']].join(temp,temp.university_name==cwur_df.institution)\n",
    "temp = temp.withColumn('total',temp.score+temp.total_score+temp.total_score_t)\n",
    "temp.orderBy('total',ascending=False).show(10)"
   ]
  },
  {
   "cell_type": "code",
   "execution_count": 71,
   "metadata": {
    "collapsed": false
   },
   "outputs": [
    {
     "name": "stdout",
     "output_type": "stream",
     "text": [
      "48\n"
     ]
    }
   ],
   "source": [
    "print cwur_df[cwur_df.year==2013][['institution']].count() - \\\n",
    "cwur_df[cwur_df.year==2013][['institution']].join(shanghai_df[shanghai_df.year==2013][['university_name']],cwur_df.institution==shanghai_df.university_name).count()"
   ]
  },
  {
   "cell_type": "code",
   "execution_count": 72,
   "metadata": {
    "collapsed": false
   },
   "outputs": [
    {
     "name": "stdout",
     "output_type": "stream",
     "text": [
      "133\n"
     ]
    }
   ],
   "source": [
    "temp = shanghai_df[shanghai_df.year==2014][['university_name']].join(cwur_df[cwur_df.year==2014][['institution']],shanghai_df.university_name==cwur_df.institution)\n",
    "print temp.count() - temp.join(times_df[times_df.year==2014][['name']],temp.institution==times_df.name).count()"
   ]
  },
  {
   "cell_type": "code",
   "execution_count": 73,
   "metadata": {
    "collapsed": false
   },
   "outputs": [
    {
     "name": "stdout",
     "output_type": "stream",
     "text": [
      "+--------------------+------------------+\n",
      "|     university_name|       score_range|\n",
      "+--------------------+------------------+\n",
      "|Georgia Institute...|              77.0|\n",
      "|    Emory University|              57.4|\n",
      "|    Tufts University|              57.3|\n",
      "|   Dartmouth College|              54.9|\n",
      "|   Tohoku University|              50.8|\n",
      "|Seoul National Un...|              50.1|\n",
      "|University of Vir...|              49.0|\n",
      "| Tel Aviv University|             48.76|\n",
      "|Carnegie Mellon U...|47.800000000000004|\n",
      "|   Nagoya University|             46.89|\n",
      "+--------------------+------------------+\n",
      "only showing top 10 rows\n",
      "\n"
     ]
    }
   ],
   "source": [
    "temp = shanghai_df[shanghai_df.year==2012]['university_name','total_score']\\\n",
    "      .join(times_df[times_df.year==2012]['name','total_score_t'],\\\n",
    "            shanghai_df.university_name==times_df.name)['university_name','total_score','total_score_t']\n",
    "temp = cwur_df[cwur_df.year==2012][['institution','score']].join(temp,temp.university_name==cwur_df.institution)\n",
    "#Not sure of better way to do this\n",
    "#This is slow but it works\n",
    "temp1 = temp.withColumn('range',F.abs(temp.score-temp.total_score))\n",
    "temp2 = temp.withColumn('range',F.abs(temp.total_score_t-temp.score))\n",
    "temp3 = temp.withColumn('range',F.abs(temp.total_score-temp.total_score_t))\n",
    "temp = temp1.unionAll(temp2.unionAll(temp3)).persist()\n",
    "temp.groupBy('university_name').agg(F.max(temp.range).alias('score_range')).orderBy('score_range',ascending=False).show(10)\n",
    "    "
   ]
  },
  {
   "cell_type": "code",
   "execution_count": 74,
   "metadata": {
    "collapsed": false
   },
   "outputs": [
    {
     "name": "stdout",
     "output_type": "stream",
     "text": [
      "+--------------------+------------------+\n",
      "|     university_name|       score_range|\n",
      "+--------------------+------------------+\n",
      "|  Harvard University| 6.099999999999994|\n",
      "|  University of Oslo|             15.36|\n",
      "|University of Cop...|15.899999999999999|\n",
      "|University of Cal...|18.200000000000003|\n",
      "|University of Mar...|19.799999999999997|\n",
      "| Stanford University| 21.10000000000001|\n",
      "|University of Geneva|21.299999999999997|\n",
      "|University of Flo...|              22.1|\n",
      "|University of Not...|22.200000000000003|\n",
      "|University of Cam...| 22.60000000000001|\n",
      "+--------------------+------------------+\n",
      "only showing top 10 rows\n",
      "\n"
     ]
    }
   ],
   "source": [
    "temp.groupBy('university_name').agg(F.max(temp.range).alias('score_range')).orderBy('score_range',ascending=True).show(10)"
   ]
  },
  {
   "cell_type": "code",
   "execution_count": 75,
   "metadata": {
    "collapsed": true
   },
   "outputs": [],
   "source": [
    "column_len = udf(lambda column: len(column), pyspark.sql.types.StringType())"
   ]
  },
  {
   "cell_type": "code",
   "execution_count": 76,
   "metadata": {
    "collapsed": false
   },
   "outputs": [
    {
     "name": "stdout",
     "output_type": "stream",
     "text": [
      "+---------------+------+\n",
      "|    institution|length|\n",
      "+---------------+------+\n",
      "| Mie University|    14|\n",
      "| Boston College|    14|\n",
      "| Hunter College|    14|\n",
      "| Ege University|    14|\n",
      "|Rush University|    15|\n",
      "|Rice University|    15|\n",
      "|Inje University|    15|\n",
      "|Yale University|    15|\n",
      "|Saga University|    15|\n",
      "|Toho University|    15|\n",
      "+---------------+------+\n",
      "only showing top 10 rows\n",
      "\n"
     ]
    }
   ],
   "source": [
    "temp = cwur_df[['institution']].distinct()\n",
    "temp.withColumn(\"length\",column_len(temp.institution)).orderBy('length').show(10)"
   ]
  },
  {
   "cell_type": "code",
   "execution_count": 77,
   "metadata": {
    "collapsed": false
   },
   "outputs": [
    {
     "name": "stdout",
     "output_type": "stream",
     "text": [
      "+----+------------------+\n",
      "|year|         avg_score|\n",
      "+----+------------------+\n",
      "|2005|36.679000000000016|\n",
      "|2013| 36.56122448979591|\n",
      "|2008|            36.557|\n",
      "|2011| 36.45841584158415|\n",
      "|2010|             36.45|\n",
      "|2006| 36.43168316831684|\n",
      "|2012|              36.4|\n",
      "|2007|36.330693069306946|\n",
      "|2009| 36.31100000000001|\n",
      "|2014|36.172000000000004|\n",
      "|2015| 35.86999999999998|\n",
      "+----+------------------+\n",
      "\n"
     ]
    }
   ],
   "source": [
    "shanghai_df[shanghai_df.total_score>0].groupBy('year').agg(F.avg('total_score').alias('avg_score')).orderBy('avg_score',ascending=False).show()"
   ]
  },
  {
   "cell_type": "code",
   "execution_count": 78,
   "metadata": {
    "collapsed": false
   },
   "outputs": [],
   "source": [
    "temp1 = times_df.groupBy('name').agg(F.max('year').alias('max_year')).withColumnRenamed('name','name1')\n",
    "temp2 = times_df.groupBy('name').agg(F.min('year').alias('min_year')).withColumnRenamed('name','name2')\n",
    "times_year_max = times_df.join(temp1,(times_df.name==temp1.name1) &(times_df.year==temp1.max_year))[['name1','total_score_t']].withColumnRenamed('total_score_t','max_year_score_times')\n",
    "times_year_min = times_df.join(temp2,(times_df.name==temp2.name2) &(times_df.year==temp2.min_year))[['name2','total_score_t']].withColumnRenamed('total_score_t','min_year_score_times')\n",
    "times_year = times_year_max.join(times_year_min,times_year_max.name1==times_year_min.name2).drop('name2')\n",
    "times_year = times_year.withColumn('times_var',100*(times_year.max_year_score_times - times_year.min_year_score_times)/times_year.min_year_score_times)\n",
    "\n",
    "\n",
    "temp1 = cwur_df.groupBy('institution').agg(F.max('year').alias('max_year')).withColumnRenamed('institution','name1')\n",
    "temp2 = cwur_df.groupBy('institution').agg(F.min('year').alias('min_year')).withColumnRenamed('institution','name2')\n",
    "cwur_year_max = cwur_df.join(temp1,(cwur_df.institution==temp1.name1) &(cwur_df.year==temp1.max_year))[['name1','score']].withColumnRenamed('score','max_year_score_cwur')\n",
    "cwur_year_min = cwur_df.join(temp2,(cwur_df.institution==temp2.name2) &(cwur_df.year==temp2.min_year))[['name2','score']].withColumnRenamed('score','min_year_score_cwur')\n",
    "cwur_year = cwur_year_max.join(cwur_year_min,cwur_year_max.name1==cwur_year_min.name2).drop('name1')\n",
    "cwur_year = cwur_year.withColumn('cwur_var',100*(cwur_year.max_year_score_cwur - cwur_year.min_year_score_cwur)/cwur_year.min_year_score_cwur)\n",
    "\n",
    "years = times_year.join(cwur_year,times_year.name1==cwur_year.name2).drop('name2').withColumnRenamed('name1','university_name')"
   ]
  },
  {
   "cell_type": "code",
   "execution_count": 80,
   "metadata": {
    "collapsed": false
   },
   "outputs": [
    {
     "name": "stdout",
     "output_type": "stream",
     "text": [
      "+--------------------+-------------------+--------------------+\n",
      "|     university_name|          times_var|            cwur_var|\n",
      "+--------------------+-------------------+--------------------+\n",
      "|University of St ...| 6.9026548672566355| -0.5633802816901365|\n",
      "|    Kyoto University| -7.275541795665628|   4.318734793187331|\n",
      "|Maastricht Univer...|  44.33734939759036|-0.23349607302058892|\n",
      "|   Aarhus University|  15.63126252505011|  -1.036475981662354|\n",
      "|Delft University ...| 28.460038986354796|-0.36457216384302316|\n",
      "|University of Cal...| -2.166476624857475|   20.07806401249024|\n",
      "|University of Vienna| 16.059957173447536| -1.5696944328170783|\n",
      "|University of Cal...|-3.7333333333333294|  2.8379674017257988|\n",
      "|University of War...| 33.260869565217384|-0.17342293518318966|\n",
      "|     Rice University|-13.452914798206287|  1.9893355209187837|\n",
      "|University of Eas...| 7.9591836734693855| -0.6322214955308463|\n",
      "|University of Mon...|  8.778625954198477| -2.1490259088170323|\n",
      "|University Colleg...|-11.999999999999998| 0.04276245456488351|\n",
      "|University of Cal...| -1.366120218579235|   5.514181587704015|\n",
      "|     Yale University|-2.3463687150837926|   9.438968915845336|\n",
      "|Joseph Fourier Un...|             -100.0|  0.3575936053849426|\n",
      "|Arizona State Uni...|-1.1928429423459133|   11.88183807439825|\n",
      "|University of Ams...| 35.599999999999994|-0.28016810086051747|\n",
      "|    Emory University| -5.238095238095234|  14.031229382010121|\n",
      "|University of Bir...|  8.494208494208506|  -1.576394502829414|\n",
      "+--------------------+-------------------+--------------------+\n",
      "only showing top 20 rows\n",
      "\n"
     ]
    }
   ],
   "source": [
    "years.where(years.cwur_var*years.times_var<0)[['university_name','times_var','cwur_var']].show()"
   ]
  },
  {
   "cell_type": "code",
   "execution_count": 83,
   "metadata": {
    "collapsed": false
   },
   "outputs": [
    {
     "name": "stdout",
     "output_type": "stream",
     "text": [
      "+--------------------+------------------+\n",
      "|             country|         avg_score|\n",
      "+--------------------+------------------+\n",
      "|      United Kingdom| 43.40333333333333|\n",
      "|United States of ...| 41.92890025575447|\n",
      "|              Canada| 32.69772727272727|\n",
      "|               Japan| 30.72051282051282|\n",
      "|             Denmark|29.847368421052632|\n",
      "|         Netherlands|28.911111111111108|\n",
      "|              Norway|28.481818181818184|\n",
      "|              Sweden|  28.4054054054054|\n",
      "|         Switzerland|28.040740740740745|\n",
      "|             Finland|27.763636363636355|\n",
      "+--------------------+------------------+\n",
      "only showing top 10 rows\n",
      "\n"
     ]
    }
   ],
   "source": [
    "temp = shanghai_df[shanghai_df.total_score>0].join(schools_df,shanghai_df.university_name==schools_df.school_name)\n",
    "temp.groupBy('country').agg(F.avg(temp.total_score).alias('avg_score')).orderBy('avg_score',ascending=False).show(10)"
   ]
  },
  {
   "cell_type": "code",
   "execution_count": 84,
   "metadata": {
    "collapsed": true
   },
   "outputs": [],
   "source": [
    "######################################################################################################################"
   ]
  },
  {
   "cell_type": "code",
   "execution_count": 85,
   "metadata": {
    "collapsed": true
   },
   "outputs": [],
   "source": [
    "######################################################################################################################"
   ]
  },
  {
   "cell_type": "code",
   "execution_count": 86,
   "metadata": {
    "collapsed": true
   },
   "outputs": [],
   "source": [
    "######################################################################################################################"
   ]
  },
  {
   "cell_type": "code",
   "execution_count": 87,
   "metadata": {
    "collapsed": true
   },
   "outputs": [],
   "source": [
    "end_df = sqlContext.read.format('csv').options(header='true',inferschema='true').load('end_song_sample.csv')\n",
    "user_df = sqlContext.read.format('csv').options(header='true',inferschema='true').load('user_data_sample.csv')"
   ]
  },
  {
   "cell_type": "code",
   "execution_count": 88,
   "metadata": {
    "collapsed": false
   },
   "outputs": [
    {
     "name": "stdout",
     "output_type": "stream",
     "text": [
      "root\n",
      " |-- ms_played: integer (nullable = true)\n",
      " |-- context: string (nullable = true)\n",
      " |-- track_id: string (nullable = true)\n",
      " |-- product: string (nullable = true)\n",
      " |-- end_timestamp: double (nullable = true)\n",
      " |-- user_id: string (nullable = true)\n",
      "\n"
     ]
    }
   ],
   "source": [
    "end_df.printSchema()"
   ]
  },
  {
   "cell_type": "code",
   "execution_count": 89,
   "metadata": {
    "collapsed": false
   },
   "outputs": [
    {
     "name": "stdout",
     "output_type": "stream",
     "text": [
      "root\n",
      " |-- gender: string (nullable = true)\n",
      " |-- age_range: string (nullable = true)\n",
      " |-- country: string (nullable = true)\n",
      " |-- acct_age_weeks: integer (nullable = true)\n",
      " |-- user_id: string (nullable = true)\n",
      "\n"
     ]
    }
   ],
   "source": [
    "user_df.printSchema()"
   ]
  },
  {
   "cell_type": "code",
   "execution_count": 93,
   "metadata": {
    "collapsed": false
   },
   "outputs": [],
   "source": [
    "user_df = user_df.withColumnRenamed('user_id','usr_id')\n",
    "join_song = end_df.join(user_df,end_df.user_id==user_df.usr_id).drop('usr_id').persist()"
   ]
  },
  {
   "cell_type": "code",
   "execution_count": 114,
   "metadata": {
    "collapsed": false
   },
   "outputs": [
    {
     "name": "stdout",
     "output_type": "stream",
     "text": [
      "+-------+------------------------+------------------+\n",
      "| gender|avg_total_listening_time|   avg_total_songs|\n",
      "+-------+------------------------+------------------+\n",
      "|unknown|    1.3795686807692308E7| 85.92307692307692|\n",
      "| female|     1.827207549122807E7|142.36359649122807|\n",
      "|   male|    1.7908570836312514E7| 138.8790921871862|\n",
      "+-------+------------------------+------------------+\n",
      "\n"
     ]
    }
   ],
   "source": [
    "join_song.groupBy('gender').agg((F.sum(join_song.ms_played)/F.countDistinct(join_song.user_id)).alias('avg_total_listening_time'),\\\n",
    "                               (F.count(join_song.ms_played)/F.countDistinct(join_song.user_id)).alias('avg_total_songs')).show()"
   ]
  },
  {
   "cell_type": "code",
   "execution_count": 121,
   "metadata": {
    "collapsed": false
   },
   "outputs": [
    {
     "ename": "TypeError",
     "evalue": "_() takes no arguments (2 given)",
     "output_type": "error",
     "traceback": [
      "\u001b[1;31m---------------------------------------------------------------------------\u001b[0m",
      "\u001b[1;31mTypeError\u001b[0m                                 Traceback (most recent call last)",
      "\u001b[1;32m<ipython-input-121-25d12bde9720>\u001b[0m in \u001b[0;36m<module>\u001b[1;34m()\u001b[0m\n\u001b[0;32m      1\u001b[0m \u001b[0mtotal_time\u001b[0m \u001b[1;33m=\u001b[0m \u001b[0mjoin_song\u001b[0m\u001b[1;33m.\u001b[0m\u001b[0mgroupBy\u001b[0m\u001b[1;33m(\u001b[0m\u001b[1;34m'user_id'\u001b[0m\u001b[1;33m)\u001b[0m\u001b[1;33m.\u001b[0m\u001b[0magg\u001b[0m\u001b[1;33m(\u001b[0m\u001b[1;33m(\u001b[0m\u001b[0mF\u001b[0m\u001b[1;33m.\u001b[0m\u001b[0msum\u001b[0m\u001b[1;33m(\u001b[0m\u001b[0mjoin_song\u001b[0m\u001b[1;33m.\u001b[0m\u001b[0mms_played\u001b[0m\u001b[1;33m)\u001b[0m\u001b[1;33m)\u001b[0m\u001b[1;33m.\u001b[0m\u001b[0malias\u001b[0m\u001b[1;33m(\u001b[0m\u001b[1;34m'total_listening_time'\u001b[0m\u001b[1;33m)\u001b[0m\u001b[1;33m)\u001b[0m\u001b[1;33m\u001b[0m\u001b[0m\n\u001b[0;32m      2\u001b[0m \u001b[0mtemp_time\u001b[0m \u001b[1;33m=\u001b[0m \u001b[0mtotal_time\u001b[0m\u001b[1;33m.\u001b[0m\u001b[0mjoin\u001b[0m\u001b[1;33m(\u001b[0m\u001b[0muser_df\u001b[0m\u001b[1;33m,\u001b[0m\u001b[0mtotal_time\u001b[0m\u001b[1;33m.\u001b[0m\u001b[0muser_id\u001b[0m\u001b[1;33m==\u001b[0m\u001b[0muser_df\u001b[0m\u001b[1;33m.\u001b[0m\u001b[0musr_id\u001b[0m\u001b[1;33m)\u001b[0m\u001b[1;33m\u001b[0m\u001b[0m\n\u001b[1;32m----> 3\u001b[1;33m \u001b[0mtemp_time\u001b[0m\u001b[1;33m.\u001b[0m\u001b[0mgroupBy\u001b[0m\u001b[1;33m(\u001b[0m\u001b[1;33m[\u001b[0m\u001b[1;34m'gender'\u001b[0m\u001b[1;33m,\u001b[0m\u001b[1;34m'age_range'\u001b[0m\u001b[1;33m]\u001b[0m\u001b[1;33m)\u001b[0m\u001b[1;33m.\u001b[0m\u001b[0magg\u001b[0m\u001b[1;33m(\u001b[0m\u001b[1;33m(\u001b[0m\u001b[0mF\u001b[0m\u001b[1;33m.\u001b[0m\u001b[0mpercent_rank\u001b[0m\u001b[1;33m(\u001b[0m\u001b[1;34m'total_listening_time'\u001b[0m\u001b[1;33m,\u001b[0m\u001b[1;36m0.5\u001b[0m\u001b[1;33m)\u001b[0m\u001b[1;33m)\u001b[0m\u001b[1;33m.\u001b[0m\u001b[0malias\u001b[0m\u001b[1;33m(\u001b[0m\u001b[1;34m'median_total_listening_time'\u001b[0m\u001b[1;33m)\u001b[0m                                              \u001b[1;33m,\u001b[0m\u001b[1;33m(\u001b[0m\u001b[0mF\u001b[0m\u001b[1;33m.\u001b[0m\u001b[0mavg\u001b[0m\u001b[1;33m(\u001b[0m\u001b[1;34m'total_listening_time'\u001b[0m\u001b[1;33m)\u001b[0m\u001b[1;33m)\u001b[0m\u001b[1;33m.\u001b[0m\u001b[0malias\u001b[0m\u001b[1;33m(\u001b[0m\u001b[1;34m'avg_total_listening_time'\u001b[0m\u001b[1;33m)\u001b[0m\u001b[1;33m)\u001b[0m\u001b[1;33m.\u001b[0m\u001b[0mshow\u001b[0m\u001b[1;33m(\u001b[0m\u001b[1;33m)\u001b[0m\u001b[1;33m\u001b[0m\u001b[0m\n\u001b[0m",
      "\u001b[1;31mTypeError\u001b[0m: _() takes no arguments (2 given)"
     ]
    }
   ],
   "source": [
    "total_time = join_song.groupBy('user_id').agg((F.sum(join_song.ms_played)).alias('total_listening_time'))\n",
    "temp_time = total_time.join(user_df,total_time.user_id==user_df.usr_id)\n",
    "#Hate this no median in sql crap\n",
    "#temp_time.groupBy(['gender','age_range']).agg((F.median('total_listening_time')).alias('median_total_listening_time')\\\n",
    "#                                              ,(F.avg('total_listening_time')).alias('avg_total_listening_time')).show()"
   ]
  },
  {
   "cell_type": "code",
   "execution_count": 122,
   "metadata": {
    "collapsed": false
   },
   "outputs": [
    {
     "name": "stdout",
     "output_type": "stream",
     "text": [
      "Help on function ntile in module pyspark.sql.functions:\n",
      "\n",
      "ntile(n)\n",
      "    Window function: returns the ntile group id (from 1 to `n` inclusive)\n",
      "    in an ordered window partition. For example, if `n` is 4, the first\n",
      "    quarter of the rows will get value 1, the second quarter will get 2,\n",
      "    the third quarter will get 3, and the last quarter will get 4.\n",
      "    \n",
      "    This is equivalent to the NTILE function in SQL.\n",
      "    \n",
      "    :param n: an integer\n",
      "    \n",
      "    .. versionadded:: 1.4\n",
      "\n"
     ]
    }
   ],
   "source": [
    "help(F.ntile)"
   ]
  },
  {
   "cell_type": "code",
   "execution_count": null,
   "metadata": {
    "collapsed": true
   },
   "outputs": [],
   "source": []
  }
 ],
 "metadata": {
  "kernelspec": {
   "display_name": "Python 2",
   "language": "python",
   "name": "python2"
  },
  "language_info": {
   "codemirror_mode": {
    "name": "ipython",
    "version": 2
   },
   "file_extension": ".py",
   "mimetype": "text/x-python",
   "name": "python",
   "nbconvert_exporter": "python",
   "pygments_lexer": "ipython2",
   "version": "2.7.11"
  }
 },
 "nbformat": 4,
 "nbformat_minor": 0
}
